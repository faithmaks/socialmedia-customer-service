{
  "cells": [
    {
      "cell_type": "markdown",
      "metadata": {
        "id": "MDGRtTzm7qjp"
      },
      "source": [
        "# Twitter API"
      ]
    },
    {
      "cell_type": "markdown",
      "metadata": {
        "id": "oscm0vHr7qjs"
      },
      "source": [
        "## 1. Business Understanding"
      ]
    },
    {
      "cell_type": "code",
      "execution_count": null,
      "metadata": {
        "id": "hzAhsd7ujLII"
      },
      "outputs": [],
      "source": []
    },
    {
      "cell_type": "markdown",
      "metadata": {
        "id": "8d_WnZb07qjt"
      },
      "source": [
        "### 1.1 Overview"
      ]
    },
    {
      "cell_type": "markdown",
      "metadata": {
        "id": "bTNmX_H87qjt"
      },
      "source": [
        "### 1.2 Problem Statement"
      ]
    },
    {
      "cell_type": "markdown",
      "metadata": {
        "id": "0e_0tVe-7qjt"
      },
      "source": [
        "### 1.3 Business Objectives"
      ]
    },
    {
      "cell_type": "markdown",
      "metadata": {
        "id": "NRPDUkeG7qju"
      },
      "source": [
        "### 1.4 Business Success Criteria"
      ]
    },
    {
      "cell_type": "markdown",
      "metadata": {
        "id": "NGSZ25gM7qju"
      },
      "source": [
        "## 2. Data Understanding"
      ]
    },
    {
      "cell_type": "markdown",
      "metadata": {
        "id": "6XioRZFJ7qju"
      },
      "source": [
        "### 2.1 Collecting the Data"
      ]
    },
    {
      "cell_type": "code",
      "execution_count": null,
      "metadata": {
        "colab": {
          "base_uri": "https://localhost:8080/"
        },
        "id": "7LLvblJKdLCV",
        "outputId": "8a29ab37-bb18-456d-a574-85590481d10a"
      },
      "outputs": [
        {
          "name": "stdout",
          "output_type": "stream",
          "text": [
            "Looking in indexes: https://pypi.org/simple, https://us-python.pkg.dev/colab-wheels/public/simple/\n",
            "Collecting wordninja\n",
            "  Downloading wordninja-2.0.0.tar.gz (541 kB)\n",
            "\u001b[K     |████████████████████████████████| 541 kB 4.9 MB/s \n",
            "\u001b[?25hBuilding wheels for collected packages: wordninja\n",
            "  Building wheel for wordninja (setup.py) ... \u001b[?25l\u001b[?25hdone\n",
            "  Created wheel for wordninja: filename=wordninja-2.0.0-py3-none-any.whl size=541552 sha256=9fafb44f72966faac1823297d6e9cec3b69387fc022230e032877dfa63f739c2\n",
            "  Stored in directory: /root/.cache/pip/wheels/a6/08/fb/98831d1c2702c8352a339f91104515eab5d7906d4118eeeaed\n",
            "Successfully built wordninja\n",
            "Installing collected packages: wordninja\n",
            "Successfully installed wordninja-2.0.0\n"
          ]
        }
      ],
      "source": [
        "! pip install wordninja"
      ]
    },
    {
      "cell_type": "code",
      "execution_count": null,
      "metadata": {
        "colab": {
          "base_uri": "https://localhost:8080/"
        },
        "id": "8iHj_J0C7qjv",
        "outputId": "71d0b1d0-4437-493f-c52d-a1d0e06c9b6c"
      },
      "outputs": [
        {
          "name": "stderr",
          "output_type": "stream",
          "text": [
            "[nltk_data] Downloading package stopwords to /root/nltk_data...\n",
            "[nltk_data]   Unzipping corpora/stopwords.zip.\n"
          ]
        }
      ],
      "source": [
        "#Importing the libraries\n",
        "import datetime\n",
        "import numpy as np\n",
        "import pandas as pd\n",
        "import seaborn as sns\n",
        "#import snscrape.modules.twitter as sntwitter\n",
        "from nltk.corpus import stopwords\n",
        "import nltk\n",
        "nltk.download('stopwords')\n",
        "import warnings\n",
        "import re \n",
        "import string\n",
        "import wordninja \n",
        "from textblob import Word\n",
        "from textblob import TextBlob\n",
        "import matplotlib.pyplot as plt\n",
        "from wordcloud import WordCloud\n",
        "warnings.filterwarnings(\"ignore\")"
      ]
    },
    {
      "cell_type": "code",
      "execution_count": null,
      "metadata": {
        "id": "IG5zUIyt_58j"
      },
      "outputs": [],
      "source": [
        "# ! pip install textblob\n",
        "# ! pip install sntwitter"
      ]
    },
    {
      "cell_type": "code",
      "execution_count": null,
      "metadata": {
        "colab": {
          "base_uri": "https://localhost:8080/"
        },
        "id": "8Yx7FzNJqFjM",
        "outputId": "33d77be1-7932-47db-e89e-e543332ac179"
      },
      "outputs": [
        {
          "name": "stdout",
          "output_type": "stream",
          "text": [
            "Mounted at /content/drive\n"
          ]
        },
        {
          "data": {
            "text/plain": [
              "['1MillTweets.csv', 'Tweets_API.ipynb']"
            ]
          },
          "execution_count": 6,
          "metadata": {},
          "output_type": "execute_result"
        }
      ],
      "source": [
        "import os \n",
        "from google.colab import drive\n",
        "drive.mount('/content/drive')\n",
        "os.listdir('/content/drive/MyDrive/tweaks')"
      ]
    },
    {
      "cell_type": "code",
      "execution_count": null,
      "metadata": {
        "colab": {
          "base_uri": "https://localhost:8080/",
          "height": 206
        },
        "id": "Y_zfmrfT7qjx",
        "outputId": "dd234c3e-6d02-4647-d82f-4fb515ec3f1e",
        "scrolled": true
      },
      "outputs": [
        {
          "data": {
            "text/html": [
              "\n",
              "  <div id=\"df-47e24d57-60bd-4715-962d-b12dc6130116\">\n",
              "    <div class=\"colab-df-container\">\n",
              "      <div>\n",
              "<style scoped>\n",
              "    .dataframe tbody tr th:only-of-type {\n",
              "        vertical-align: middle;\n",
              "    }\n",
              "\n",
              "    .dataframe tbody tr th {\n",
              "        vertical-align: top;\n",
              "    }\n",
              "\n",
              "    .dataframe thead th {\n",
              "        text-align: right;\n",
              "    }\n",
              "</style>\n",
              "<table border=\"1\" class=\"dataframe\">\n",
              "  <thead>\n",
              "    <tr style=\"text-align: right;\">\n",
              "      <th></th>\n",
              "      <th>Datetime</th>\n",
              "      <th>Tweet Id</th>\n",
              "      <th>Text</th>\n",
              "      <th>Username</th>\n",
              "      <th>LikeCount</th>\n",
              "    </tr>\n",
              "  </thead>\n",
              "  <tbody>\n",
              "    <tr>\n",
              "      <th>0</th>\n",
              "      <td>2022-12-14 23:47:00+00:00</td>\n",
              "      <td>1603174748451733504</td>\n",
              "      <td>Ditto @Safaricom_Care https://t.co/SgK6L3YQhd</td>\n",
              "      <td>OnguruMeister</td>\n",
              "      <td>0</td>\n",
              "    </tr>\n",
              "    <tr>\n",
              "      <th>1</th>\n",
              "      <td>2022-12-14 23:41:18+00:00</td>\n",
              "      <td>1603173313052037120</td>\n",
              "      <td>@ital_john Hello John, the deadline was Octobe...</td>\n",
              "      <td>Safaricom_Care</td>\n",
              "      <td>0</td>\n",
              "    </tr>\n",
              "    <tr>\n",
              "      <th>2</th>\n",
              "      <td>2022-12-14 23:35:29+00:00</td>\n",
              "      <td>1603171849428508673</td>\n",
              "      <td>@missy_k32 @AbdulahiAdan10 @Safaricom_Care @be...</td>\n",
              "      <td>I_im_kibagendi</td>\n",
              "      <td>0</td>\n",
              "    </tr>\n",
              "    <tr>\n",
              "      <th>3</th>\n",
              "      <td>2022-12-14 23:34:57+00:00</td>\n",
              "      <td>1603171716594692096</td>\n",
              "      <td>@Safaricom_Care, @SafaricomPLC  we demand you ...</td>\n",
              "      <td>MutonyeMutuku_</td>\n",
              "      <td>2</td>\n",
              "    </tr>\n",
              "    <tr>\n",
              "      <th>4</th>\n",
              "      <td>2022-12-14 23:19:59+00:00</td>\n",
              "      <td>1603167951682764800</td>\n",
              "      <td>Hey @Safaricom_Care @SafaricomPLC ,15th Decemb...</td>\n",
              "      <td>ndungujosephn</td>\n",
              "      <td>0</td>\n",
              "    </tr>\n",
              "  </tbody>\n",
              "</table>\n",
              "</div>\n",
              "      <button class=\"colab-df-convert\" onclick=\"convertToInteractive('df-47e24d57-60bd-4715-962d-b12dc6130116')\"\n",
              "              title=\"Convert this dataframe to an interactive table.\"\n",
              "              style=\"display:none;\">\n",
              "        \n",
              "  <svg xmlns=\"http://www.w3.org/2000/svg\" height=\"24px\"viewBox=\"0 0 24 24\"\n",
              "       width=\"24px\">\n",
              "    <path d=\"M0 0h24v24H0V0z\" fill=\"none\"/>\n",
              "    <path d=\"M18.56 5.44l.94 2.06.94-2.06 2.06-.94-2.06-.94-.94-2.06-.94 2.06-2.06.94zm-11 1L8.5 8.5l.94-2.06 2.06-.94-2.06-.94L8.5 2.5l-.94 2.06-2.06.94zm10 10l.94 2.06.94-2.06 2.06-.94-2.06-.94-.94-2.06-.94 2.06-2.06.94z\"/><path d=\"M17.41 7.96l-1.37-1.37c-.4-.4-.92-.59-1.43-.59-.52 0-1.04.2-1.43.59L10.3 9.45l-7.72 7.72c-.78.78-.78 2.05 0 2.83L4 21.41c.39.39.9.59 1.41.59.51 0 1.02-.2 1.41-.59l7.78-7.78 2.81-2.81c.8-.78.8-2.07 0-2.86zM5.41 20L4 18.59l7.72-7.72 1.47 1.35L5.41 20z\"/>\n",
              "  </svg>\n",
              "      </button>\n",
              "      \n",
              "  <style>\n",
              "    .colab-df-container {\n",
              "      display:flex;\n",
              "      flex-wrap:wrap;\n",
              "      gap: 12px;\n",
              "    }\n",
              "\n",
              "    .colab-df-convert {\n",
              "      background-color: #E8F0FE;\n",
              "      border: none;\n",
              "      border-radius: 50%;\n",
              "      cursor: pointer;\n",
              "      display: none;\n",
              "      fill: #1967D2;\n",
              "      height: 32px;\n",
              "      padding: 0 0 0 0;\n",
              "      width: 32px;\n",
              "    }\n",
              "\n",
              "    .colab-df-convert:hover {\n",
              "      background-color: #E2EBFA;\n",
              "      box-shadow: 0px 1px 2px rgba(60, 64, 67, 0.3), 0px 1px 3px 1px rgba(60, 64, 67, 0.15);\n",
              "      fill: #174EA6;\n",
              "    }\n",
              "\n",
              "    [theme=dark] .colab-df-convert {\n",
              "      background-color: #3B4455;\n",
              "      fill: #D2E3FC;\n",
              "    }\n",
              "\n",
              "    [theme=dark] .colab-df-convert:hover {\n",
              "      background-color: #434B5C;\n",
              "      box-shadow: 0px 1px 3px 1px rgba(0, 0, 0, 0.15);\n",
              "      filter: drop-shadow(0px 1px 2px rgba(0, 0, 0, 0.3));\n",
              "      fill: #FFFFFF;\n",
              "    }\n",
              "  </style>\n",
              "\n",
              "      <script>\n",
              "        const buttonEl =\n",
              "          document.querySelector('#df-47e24d57-60bd-4715-962d-b12dc6130116 button.colab-df-convert');\n",
              "        buttonEl.style.display =\n",
              "          google.colab.kernel.accessAllowed ? 'block' : 'none';\n",
              "\n",
              "        async function convertToInteractive(key) {\n",
              "          const element = document.querySelector('#df-47e24d57-60bd-4715-962d-b12dc6130116');\n",
              "          const dataTable =\n",
              "            await google.colab.kernel.invokeFunction('convertToInteractive',\n",
              "                                                     [key], {});\n",
              "          if (!dataTable) return;\n",
              "\n",
              "          const docLinkHtml = 'Like what you see? Visit the ' +\n",
              "            '<a target=\"_blank\" href=https://colab.research.google.com/notebooks/data_table.ipynb>data table notebook</a>'\n",
              "            + ' to learn more about interactive tables.';\n",
              "          element.innerHTML = '';\n",
              "          dataTable['output_type'] = 'display_data';\n",
              "          await google.colab.output.renderOutput(dataTable, element);\n",
              "          const docLink = document.createElement('div');\n",
              "          docLink.innerHTML = docLinkHtml;\n",
              "          element.appendChild(docLink);\n",
              "        }\n",
              "      </script>\n",
              "    </div>\n",
              "  </div>\n",
              "  "
            ],
            "text/plain": [
              "                    Datetime             Tweet Id  \\\n",
              "0  2022-12-14 23:47:00+00:00  1603174748451733504   \n",
              "1  2022-12-14 23:41:18+00:00  1603173313052037120   \n",
              "2  2022-12-14 23:35:29+00:00  1603171849428508673   \n",
              "3  2022-12-14 23:34:57+00:00  1603171716594692096   \n",
              "4  2022-12-14 23:19:59+00:00  1603167951682764800   \n",
              "\n",
              "                                                Text        Username  \\\n",
              "0      Ditto @Safaricom_Care https://t.co/SgK6L3YQhd   OnguruMeister   \n",
              "1  @ital_john Hello John, the deadline was Octobe...  Safaricom_Care   \n",
              "2  @missy_k32 @AbdulahiAdan10 @Safaricom_Care @be...  I_im_kibagendi   \n",
              "3  @Safaricom_Care, @SafaricomPLC  we demand you ...  MutonyeMutuku_   \n",
              "4  Hey @Safaricom_Care @SafaricomPLC ,15th Decemb...   ndungujosephn   \n",
              "\n",
              "   LikeCount  \n",
              "0          0  \n",
              "1          0  \n",
              "2          0  \n",
              "3          2  \n",
              "4          0  "
            ]
          },
          "execution_count": 7,
          "metadata": {},
          "output_type": "execute_result"
        }
      ],
      "source": [
        "#Loading the data set\n",
        "tweets_df = pd.read_csv('/content/drive/MyDrive/tweaks/1MillTweets.csv')\n",
        "tweets_df.head()"
      ]
    },
    {
      "cell_type": "markdown",
      "metadata": {
        "id": "B_YB5It47qjx"
      },
      "source": [
        "### 2.2 Describing the Data"
      ]
    },
    {
      "cell_type": "markdown",
      "metadata": {
        "id": "YfcPUlH27qjx"
      },
      "source": [
        "#### 2.2.1 Description of the columns in the data set:\n",
        "\n",
        "> * Datetime - This refers to the date of the tweet\n",
        "\n",
        "> * Tweet Id - This refers to the unique id of the tweet\n",
        "\n",
        "> * Text - This refers to the actual text in the tweet\n",
        "\n",
        "> * Username - This refers to the name of the user who commented\n",
        "\n",
        "> * Like Count -This refers to the number of likes a tweet receives"
      ]
    },
    {
      "cell_type": "markdown",
      "metadata": {
        "id": "hxHT9Tj37qjy"
      },
      "source": [
        "#### 2.2.2 Description of the size, statistics and data type"
      ]
    },
    {
      "cell_type": "code",
      "execution_count": null,
      "metadata": {
        "id": "DC2Va1O67qjy"
      },
      "outputs": [],
      "source": [
        "# creating a class that we will use to describe the data\n",
        "\n",
        "class describing_the_data(object):\n",
        "      def __init__(self, df):\n",
        "        self.info = df.info\n",
        "        self.shape = df.shape\n",
        "        self.describe = df.describe()\n",
        "        self.duplicates = df.duplicated().sum()\n",
        "        self.missing = df.isna().sum()"
      ]
    },
    {
      "cell_type": "code",
      "execution_count": null,
      "metadata": {
        "id": "UQgYIpTT7qjy"
      },
      "outputs": [],
      "source": [
        "#Instantiating the class\n",
        "data_description = describing_the_data(tweets_df)"
      ]
    },
    {
      "cell_type": "code",
      "execution_count": null,
      "metadata": {
        "colab": {
          "base_uri": "https://localhost:8080/"
        },
        "id": "bcWL6jjO7qjy",
        "outputId": "03e9f2e5-76aa-480f-9090-d496b1b7cec3"
      },
      "outputs": [
        {
          "name": "stdout",
          "output_type": "stream",
          "text": [
            "<class 'pandas.core.frame.DataFrame'>\n",
            "RangeIndex: 1000001 entries, 0 to 1000000\n",
            "Data columns (total 5 columns):\n",
            " #   Column     Non-Null Count    Dtype \n",
            "---  ------     --------------    ----- \n",
            " 0   Datetime   1000001 non-null  object\n",
            " 1   Tweet Id   1000001 non-null  int64 \n",
            " 2   Text       1000001 non-null  object\n",
            " 3   Username   1000001 non-null  object\n",
            " 4   LikeCount  1000001 non-null  int64 \n",
            "dtypes: int64(2), object(3)\n",
            "memory usage: 38.1+ MB\n"
          ]
        }
      ],
      "source": [
        "# describe the data type of the columns\n",
        "data_description.info()"
      ]
    },
    {
      "cell_type": "code",
      "execution_count": null,
      "metadata": {
        "colab": {
          "base_uri": "https://localhost:8080/"
        },
        "id": "2bS58jvx7qjz",
        "outputId": "b215bcd7-c69d-47ea-c984-3e812cd39aaa"
      },
      "outputs": [
        {
          "data": {
            "text/plain": [
              "(1000001, 5)"
            ]
          },
          "execution_count": 11,
          "metadata": {},
          "output_type": "execute_result"
        }
      ],
      "source": [
        "#shape of the data\n",
        "data_description.shape"
      ]
    },
    {
      "cell_type": "code",
      "execution_count": null,
      "metadata": {
        "colab": {
          "base_uri": "https://localhost:8080/",
          "height": 300
        },
        "id": "2ZshknkI7qjz",
        "outputId": "6c44b405-34d7-41d3-9fa1-8122ea12532c"
      },
      "outputs": [
        {
          "data": {
            "text/html": [
              "\n",
              "  <div id=\"df-6e82759c-657d-45a6-9a17-fcdab9dace5e\">\n",
              "    <div class=\"colab-df-container\">\n",
              "      <div>\n",
              "<style scoped>\n",
              "    .dataframe tbody tr th:only-of-type {\n",
              "        vertical-align: middle;\n",
              "    }\n",
              "\n",
              "    .dataframe tbody tr th {\n",
              "        vertical-align: top;\n",
              "    }\n",
              "\n",
              "    .dataframe thead th {\n",
              "        text-align: right;\n",
              "    }\n",
              "</style>\n",
              "<table border=\"1\" class=\"dataframe\">\n",
              "  <thead>\n",
              "    <tr style=\"text-align: right;\">\n",
              "      <th></th>\n",
              "      <th>Tweet Id</th>\n",
              "      <th>LikeCount</th>\n",
              "    </tr>\n",
              "  </thead>\n",
              "  <tbody>\n",
              "    <tr>\n",
              "      <th>count</th>\n",
              "      <td>1.000001e+06</td>\n",
              "      <td>1.000001e+06</td>\n",
              "    </tr>\n",
              "    <tr>\n",
              "      <th>mean</th>\n",
              "      <td>1.342273e+18</td>\n",
              "      <td>7.958292e-01</td>\n",
              "    </tr>\n",
              "    <tr>\n",
              "      <th>std</th>\n",
              "      <td>1.550978e+17</td>\n",
              "      <td>2.739744e+01</td>\n",
              "    </tr>\n",
              "    <tr>\n",
              "      <th>min</th>\n",
              "      <td>1.055776e+18</td>\n",
              "      <td>0.000000e+00</td>\n",
              "    </tr>\n",
              "    <tr>\n",
              "      <th>25%</th>\n",
              "      <td>1.226837e+18</td>\n",
              "      <td>0.000000e+00</td>\n",
              "    </tr>\n",
              "    <tr>\n",
              "      <th>50%</th>\n",
              "      <td>1.322460e+18</td>\n",
              "      <td>0.000000e+00</td>\n",
              "    </tr>\n",
              "    <tr>\n",
              "      <th>75%</th>\n",
              "      <td>1.475853e+18</td>\n",
              "      <td>0.000000e+00</td>\n",
              "    </tr>\n",
              "    <tr>\n",
              "      <th>max</th>\n",
              "      <td>1.603175e+18</td>\n",
              "      <td>1.028200e+04</td>\n",
              "    </tr>\n",
              "  </tbody>\n",
              "</table>\n",
              "</div>\n",
              "      <button class=\"colab-df-convert\" onclick=\"convertToInteractive('df-6e82759c-657d-45a6-9a17-fcdab9dace5e')\"\n",
              "              title=\"Convert this dataframe to an interactive table.\"\n",
              "              style=\"display:none;\">\n",
              "        \n",
              "  <svg xmlns=\"http://www.w3.org/2000/svg\" height=\"24px\"viewBox=\"0 0 24 24\"\n",
              "       width=\"24px\">\n",
              "    <path d=\"M0 0h24v24H0V0z\" fill=\"none\"/>\n",
              "    <path d=\"M18.56 5.44l.94 2.06.94-2.06 2.06-.94-2.06-.94-.94-2.06-.94 2.06-2.06.94zm-11 1L8.5 8.5l.94-2.06 2.06-.94-2.06-.94L8.5 2.5l-.94 2.06-2.06.94zm10 10l.94 2.06.94-2.06 2.06-.94-2.06-.94-.94-2.06-.94 2.06-2.06.94z\"/><path d=\"M17.41 7.96l-1.37-1.37c-.4-.4-.92-.59-1.43-.59-.52 0-1.04.2-1.43.59L10.3 9.45l-7.72 7.72c-.78.78-.78 2.05 0 2.83L4 21.41c.39.39.9.59 1.41.59.51 0 1.02-.2 1.41-.59l7.78-7.78 2.81-2.81c.8-.78.8-2.07 0-2.86zM5.41 20L4 18.59l7.72-7.72 1.47 1.35L5.41 20z\"/>\n",
              "  </svg>\n",
              "      </button>\n",
              "      \n",
              "  <style>\n",
              "    .colab-df-container {\n",
              "      display:flex;\n",
              "      flex-wrap:wrap;\n",
              "      gap: 12px;\n",
              "    }\n",
              "\n",
              "    .colab-df-convert {\n",
              "      background-color: #E8F0FE;\n",
              "      border: none;\n",
              "      border-radius: 50%;\n",
              "      cursor: pointer;\n",
              "      display: none;\n",
              "      fill: #1967D2;\n",
              "      height: 32px;\n",
              "      padding: 0 0 0 0;\n",
              "      width: 32px;\n",
              "    }\n",
              "\n",
              "    .colab-df-convert:hover {\n",
              "      background-color: #E2EBFA;\n",
              "      box-shadow: 0px 1px 2px rgba(60, 64, 67, 0.3), 0px 1px 3px 1px rgba(60, 64, 67, 0.15);\n",
              "      fill: #174EA6;\n",
              "    }\n",
              "\n",
              "    [theme=dark] .colab-df-convert {\n",
              "      background-color: #3B4455;\n",
              "      fill: #D2E3FC;\n",
              "    }\n",
              "\n",
              "    [theme=dark] .colab-df-convert:hover {\n",
              "      background-color: #434B5C;\n",
              "      box-shadow: 0px 1px 3px 1px rgba(0, 0, 0, 0.15);\n",
              "      filter: drop-shadow(0px 1px 2px rgba(0, 0, 0, 0.3));\n",
              "      fill: #FFFFFF;\n",
              "    }\n",
              "  </style>\n",
              "\n",
              "      <script>\n",
              "        const buttonEl =\n",
              "          document.querySelector('#df-6e82759c-657d-45a6-9a17-fcdab9dace5e button.colab-df-convert');\n",
              "        buttonEl.style.display =\n",
              "          google.colab.kernel.accessAllowed ? 'block' : 'none';\n",
              "\n",
              "        async function convertToInteractive(key) {\n",
              "          const element = document.querySelector('#df-6e82759c-657d-45a6-9a17-fcdab9dace5e');\n",
              "          const dataTable =\n",
              "            await google.colab.kernel.invokeFunction('convertToInteractive',\n",
              "                                                     [key], {});\n",
              "          if (!dataTable) return;\n",
              "\n",
              "          const docLinkHtml = 'Like what you see? Visit the ' +\n",
              "            '<a target=\"_blank\" href=https://colab.research.google.com/notebooks/data_table.ipynb>data table notebook</a>'\n",
              "            + ' to learn more about interactive tables.';\n",
              "          element.innerHTML = '';\n",
              "          dataTable['output_type'] = 'display_data';\n",
              "          await google.colab.output.renderOutput(dataTable, element);\n",
              "          const docLink = document.createElement('div');\n",
              "          docLink.innerHTML = docLinkHtml;\n",
              "          element.appendChild(docLink);\n",
              "        }\n",
              "      </script>\n",
              "    </div>\n",
              "  </div>\n",
              "  "
            ],
            "text/plain": [
              "           Tweet Id     LikeCount\n",
              "count  1.000001e+06  1.000001e+06\n",
              "mean   1.342273e+18  7.958292e-01\n",
              "std    1.550978e+17  2.739744e+01\n",
              "min    1.055776e+18  0.000000e+00\n",
              "25%    1.226837e+18  0.000000e+00\n",
              "50%    1.322460e+18  0.000000e+00\n",
              "75%    1.475853e+18  0.000000e+00\n",
              "max    1.603175e+18  1.028200e+04"
            ]
          },
          "execution_count": 12,
          "metadata": {},
          "output_type": "execute_result"
        }
      ],
      "source": [
        "#descriptive statistics of the data\n",
        "data_description.describe"
      ]
    },
    {
      "cell_type": "code",
      "execution_count": null,
      "metadata": {
        "colab": {
          "base_uri": "https://localhost:8080/"
        },
        "id": "MAEXrX9x7qjz",
        "outputId": "d9a0dae8-6a91-4cd0-9c96-5e206ac577d3"
      },
      "outputs": [
        {
          "data": {
            "text/plain": [
              "0"
            ]
          },
          "execution_count": 13,
          "metadata": {},
          "output_type": "execute_result"
        }
      ],
      "source": [
        "#checking for duplicates\n",
        "data_description.duplicates"
      ]
    },
    {
      "cell_type": "code",
      "execution_count": null,
      "metadata": {
        "colab": {
          "base_uri": "https://localhost:8080/"
        },
        "id": "lV3svihu7qjz",
        "outputId": "fbc4055e-fa06-4a55-ba00-3d467a224a26"
      },
      "outputs": [
        {
          "data": {
            "text/plain": [
              "Datetime     0\n",
              "Tweet Id     0\n",
              "Text         0\n",
              "Username     0\n",
              "LikeCount    0\n",
              "dtype: int64"
            ]
          },
          "execution_count": 14,
          "metadata": {},
          "output_type": "execute_result"
        }
      ],
      "source": [
        "#checking for missing values\n",
        "data_description.missing"
      ]
    },
    {
      "cell_type": "markdown",
      "metadata": {
        "id": "ZadOvmCJ7qjz"
      },
      "source": [
        "## 3. Data Preparation"
      ]
    },
    {
      "cell_type": "markdown",
      "metadata": {
        "id": "6arBoxe57qjz"
      },
      "source": [
        "### 3.1 Data Cleaning"
      ]
    },
    {
      "cell_type": "code",
      "execution_count": null,
      "metadata": {
        "id": "WA0pJPJI7qj0"
      },
      "outputs": [],
      "source": [
        "#Removing Tweets by Safaricom in order to have tweets from their customers only\n",
        "tweets_df = tweets_df[tweets_df['Username'] != 'Safaricom_Care']"
      ]
    },
    {
      "cell_type": "code",
      "execution_count": null,
      "metadata": {
        "id": "YxmHgs4l7qj0"
      },
      "outputs": [],
      "source": [
        "#Instantiating the class\n",
        "data_description_2 = describing_the_data(tweets_df)"
      ]
    },
    {
      "cell_type": "code",
      "execution_count": null,
      "metadata": {
        "colab": {
          "base_uri": "https://localhost:8080/"
        },
        "id": "rwQKDvN87qj0",
        "outputId": "fe9da8da-58b9-4a4e-f02f-077cb5314d9d"
      },
      "outputs": [
        {
          "data": {
            "text/plain": [
              "(740364, 5)"
            ]
          },
          "execution_count": 17,
          "metadata": {},
          "output_type": "execute_result"
        }
      ],
      "source": [
        "data_description_2.shape"
      ]
    },
    {
      "cell_type": "code",
      "execution_count": null,
      "metadata": {
        "id": "nsMIMuid7qj0"
      },
      "outputs": [],
      "source": [
        "# Defining functions to clean data\n",
        "def lower_case(tweet):\n",
        "    tweet = tweet.lower() \n",
        "    return tweet\n",
        "\n",
        "# def tokenization(tweet):\n",
        "#     tweet = tweet.split() \n",
        "\n",
        "# def \n",
        "\n",
        "def remove_links(tweet):\n",
        "    tweet = re.sub(r\"https\\S+\",\" \",tweet) #removes weblinks\n",
        "    tweet = re.sub(r\"bit.ly/\\S+\", \" \",tweet) #removes weblinks\n",
        "    return tweet\n",
        "\n",
        "def remove_user(tweet):\n",
        "    tweet = re.sub('(rt\\s@[a-z]+[a-z0-9-_]+)', '',str(tweet)) #removes @user information\n",
        "    tweet = re.sub('(@[a-z]+[a-z0-9-_]+)', '',str(tweet))#removes @user information\n",
        "    return tweet\n",
        "\n",
        "    # tweet = re.sub(\"(sxsw)\",\" \",tweet)\n",
        "    # tweet = re.sub(\"(link)\",\" \",tweet)\n",
        "# def remove_user(tweet):\n",
        "#     tweet = re.sub('(rt\\s@[a-z]+[a-z0-9-_]+)', '',tweet) #removes @user information\n",
        "#     tweet = re.sub('(@[a-z]+[a-z0-9-_]+)', '',tweet) #removes @user information\n",
        "#     # tweet = re.sub(\"(sxsw)\",\" \",tweet)\n",
        "#     # tweet = re.sub(\"(link)\",\" \",tweet)\n",
        "   \n",
        "def remove_hashtags(tweet):\n",
        "    tweeet = re.sub('(#[a-z]+[a-z0-9-_]+)', '',tweet) #removes the hashtags\n",
        "    return tweet\n",
        "def deEmojify(text):\n",
        "    regrex_pattern = re.compile(pattern = \"[\"\n",
        "        u\"\\U0001F600-\\U0001F64F\"  # emoticons\n",
        "        u\"\\U0001F300-\\U0001F5FF\"  # symbols & pictographs\n",
        "        u\"\\U0001F680-\\U0001F6FF\"  # transport & map symbols\n",
        "        u\"\\U0001F1E0-\\U0001F1FF\"  # flags (iOS)\n",
        "                           \"]+\", flags = re.UNICODE)\n",
        "    return regrex_pattern.sub(r'',text)\n",
        "\n",
        "# def remove_stopwords(tweet):\n",
        "#     stop_words = stopwords.words('english')\n",
        "#     new_stopwords = [\"dm\", \"check\", \"kindly\", \"please\", \"na\" , \"ni\", \"get\" , \"ya\", \"hello\", \"still\", \"need\", \"cant\", \"help\", \n",
        "#                  \"even\",\"hey\", \"like\", \"issue\", \"whats\", \"hii\", \"since\", \"hi\", \"kwa\", \"using\", \"dont\", \"assist\", \"im\", \"know\", \n",
        "#                  \"people\", \"someone\", \"thanks\", \"thank\", \"waiting\", \"today\", \"ive\", \"want\", \"us\", \"use\", \"ama\", \"without\", \n",
        "#                  \"trying\", \"guys\", \"happening\"]\n",
        "#     stop_words.extend(new_stopwords)\n",
        "#     tweet = tweet.join(word for word in tweet.split () if word not in (stop_words))\n",
        "#     return tweet\n",
        "\n",
        "def basic_clean(tweet):\n",
        "    \"\"\"Returns cleaned data, remove punctuation and numbers\"\"\"\n",
        "    tweet = lower_case(tweet)\n",
        "#     tweet = tokenization(tweet)\n",
        "    tweet = remove_user(tweet)\n",
        "    tweet = remove_links(tweet)\n",
        "    tweet = remove_hashtags(tweet)\n",
        "    tweet = deEmojify(tweet)\n",
        "#     tweet = remove_stopwords(tweet)\n",
        "    tweet = re.sub('['+ string.punctuation+ ']+', '',tweet) # Removes punctuation\n",
        "    tweet = re.sub('([0-9]+)',\" \",tweet) # Removes numbers\n",
        "    return tweet\n"
      ]
    },
    {
      "cell_type": "code",
      "execution_count": null,
      "metadata": {
        "id": "6HArrR2O7qj0"
      },
      "outputs": [],
      "source": [
        "#creating a new column with the clean tweets\n",
        "clean_data=[]\n",
        "for i in tweets_df[\"Text\"]:\n",
        "    clean_data.append(basic_clean(i))\n",
        "\n",
        "tweets_df['Clean_Tweets']=clean_data\n",
        "    "
      ]
    },
    {
      "cell_type": "code",
      "execution_count": null,
      "metadata": {
        "colab": {
          "base_uri": "https://localhost:8080/",
          "height": 250
        },
        "id": "YePNBbpn7qj0",
        "outputId": "66490b9a-ef8f-43bd-bbe6-026917819445"
      },
      "outputs": [
        {
          "data": {
            "text/html": [
              "\n",
              "  <div id=\"df-642dc1c0-d799-4a7c-868e-64aacf6b7614\">\n",
              "    <div class=\"colab-df-container\">\n",
              "      <div>\n",
              "<style scoped>\n",
              "    .dataframe tbody tr th:only-of-type {\n",
              "        vertical-align: middle;\n",
              "    }\n",
              "\n",
              "    .dataframe tbody tr th {\n",
              "        vertical-align: top;\n",
              "    }\n",
              "\n",
              "    .dataframe thead th {\n",
              "        text-align: right;\n",
              "    }\n",
              "</style>\n",
              "<table border=\"1\" class=\"dataframe\">\n",
              "  <thead>\n",
              "    <tr style=\"text-align: right;\">\n",
              "      <th></th>\n",
              "      <th>Datetime</th>\n",
              "      <th>Tweet Id</th>\n",
              "      <th>Text</th>\n",
              "      <th>Username</th>\n",
              "      <th>LikeCount</th>\n",
              "      <th>Clean_Tweets</th>\n",
              "    </tr>\n",
              "  </thead>\n",
              "  <tbody>\n",
              "    <tr>\n",
              "      <th>0</th>\n",
              "      <td>2022-12-14 23:47:00+00:00</td>\n",
              "      <td>1603174748451733504</td>\n",
              "      <td>Ditto @Safaricom_Care https://t.co/SgK6L3YQhd</td>\n",
              "      <td>OnguruMeister</td>\n",
              "      <td>0</td>\n",
              "      <td>ditto</td>\n",
              "    </tr>\n",
              "    <tr>\n",
              "      <th>2</th>\n",
              "      <td>2022-12-14 23:35:29+00:00</td>\n",
              "      <td>1603171849428508673</td>\n",
              "      <td>@missy_k32 @AbdulahiAdan10 @Safaricom_Care @be...</td>\n",
              "      <td>I_im_kibagendi</td>\n",
              "      <td>0</td>\n",
              "      <td>i can see you have started and clearly thi...</td>\n",
              "    </tr>\n",
              "    <tr>\n",
              "      <th>3</th>\n",
              "      <td>2022-12-14 23:34:57+00:00</td>\n",
              "      <td>1603171716594692096</td>\n",
              "      <td>@Safaricom_Care, @SafaricomPLC  we demand you ...</td>\n",
              "      <td>MutonyeMutuku_</td>\n",
              "      <td>2</td>\n",
              "      <td>we demand you issue a statement concerning ...</td>\n",
              "    </tr>\n",
              "    <tr>\n",
              "      <th>4</th>\n",
              "      <td>2022-12-14 23:19:59+00:00</td>\n",
              "      <td>1603167951682764800</td>\n",
              "      <td>Hey @Safaricom_Care @SafaricomPLC ,15th Decemb...</td>\n",
              "      <td>ndungujosephn</td>\n",
              "      <td>0</td>\n",
              "      <td>hey    th december is my birthday i can see it...</td>\n",
              "    </tr>\n",
              "    <tr>\n",
              "      <th>5</th>\n",
              "      <td>2022-12-14 23:00:12+00:00</td>\n",
              "      <td>1603162972456640517</td>\n",
              "      <td>@enockmogaka7 @SafaricomPLC @Safaricom_Care Th...</td>\n",
              "      <td>cellestialtech</td>\n",
              "      <td>0</td>\n",
              "      <td>the man is dead  you buggers still holding ...</td>\n",
              "    </tr>\n",
              "  </tbody>\n",
              "</table>\n",
              "</div>\n",
              "      <button class=\"colab-df-convert\" onclick=\"convertToInteractive('df-642dc1c0-d799-4a7c-868e-64aacf6b7614')\"\n",
              "              title=\"Convert this dataframe to an interactive table.\"\n",
              "              style=\"display:none;\">\n",
              "        \n",
              "  <svg xmlns=\"http://www.w3.org/2000/svg\" height=\"24px\"viewBox=\"0 0 24 24\"\n",
              "       width=\"24px\">\n",
              "    <path d=\"M0 0h24v24H0V0z\" fill=\"none\"/>\n",
              "    <path d=\"M18.56 5.44l.94 2.06.94-2.06 2.06-.94-2.06-.94-.94-2.06-.94 2.06-2.06.94zm-11 1L8.5 8.5l.94-2.06 2.06-.94-2.06-.94L8.5 2.5l-.94 2.06-2.06.94zm10 10l.94 2.06.94-2.06 2.06-.94-2.06-.94-.94-2.06-.94 2.06-2.06.94z\"/><path d=\"M17.41 7.96l-1.37-1.37c-.4-.4-.92-.59-1.43-.59-.52 0-1.04.2-1.43.59L10.3 9.45l-7.72 7.72c-.78.78-.78 2.05 0 2.83L4 21.41c.39.39.9.59 1.41.59.51 0 1.02-.2 1.41-.59l7.78-7.78 2.81-2.81c.8-.78.8-2.07 0-2.86zM5.41 20L4 18.59l7.72-7.72 1.47 1.35L5.41 20z\"/>\n",
              "  </svg>\n",
              "      </button>\n",
              "      \n",
              "  <style>\n",
              "    .colab-df-container {\n",
              "      display:flex;\n",
              "      flex-wrap:wrap;\n",
              "      gap: 12px;\n",
              "    }\n",
              "\n",
              "    .colab-df-convert {\n",
              "      background-color: #E8F0FE;\n",
              "      border: none;\n",
              "      border-radius: 50%;\n",
              "      cursor: pointer;\n",
              "      display: none;\n",
              "      fill: #1967D2;\n",
              "      height: 32px;\n",
              "      padding: 0 0 0 0;\n",
              "      width: 32px;\n",
              "    }\n",
              "\n",
              "    .colab-df-convert:hover {\n",
              "      background-color: #E2EBFA;\n",
              "      box-shadow: 0px 1px 2px rgba(60, 64, 67, 0.3), 0px 1px 3px 1px rgba(60, 64, 67, 0.15);\n",
              "      fill: #174EA6;\n",
              "    }\n",
              "\n",
              "    [theme=dark] .colab-df-convert {\n",
              "      background-color: #3B4455;\n",
              "      fill: #D2E3FC;\n",
              "    }\n",
              "\n",
              "    [theme=dark] .colab-df-convert:hover {\n",
              "      background-color: #434B5C;\n",
              "      box-shadow: 0px 1px 3px 1px rgba(0, 0, 0, 0.15);\n",
              "      filter: drop-shadow(0px 1px 2px rgba(0, 0, 0, 0.3));\n",
              "      fill: #FFFFFF;\n",
              "    }\n",
              "  </style>\n",
              "\n",
              "      <script>\n",
              "        const buttonEl =\n",
              "          document.querySelector('#df-642dc1c0-d799-4a7c-868e-64aacf6b7614 button.colab-df-convert');\n",
              "        buttonEl.style.display =\n",
              "          google.colab.kernel.accessAllowed ? 'block' : 'none';\n",
              "\n",
              "        async function convertToInteractive(key) {\n",
              "          const element = document.querySelector('#df-642dc1c0-d799-4a7c-868e-64aacf6b7614');\n",
              "          const dataTable =\n",
              "            await google.colab.kernel.invokeFunction('convertToInteractive',\n",
              "                                                     [key], {});\n",
              "          if (!dataTable) return;\n",
              "\n",
              "          const docLinkHtml = 'Like what you see? Visit the ' +\n",
              "            '<a target=\"_blank\" href=https://colab.research.google.com/notebooks/data_table.ipynb>data table notebook</a>'\n",
              "            + ' to learn more about interactive tables.';\n",
              "          element.innerHTML = '';\n",
              "          dataTable['output_type'] = 'display_data';\n",
              "          await google.colab.output.renderOutput(dataTable, element);\n",
              "          const docLink = document.createElement('div');\n",
              "          docLink.innerHTML = docLinkHtml;\n",
              "          element.appendChild(docLink);\n",
              "        }\n",
              "      </script>\n",
              "    </div>\n",
              "  </div>\n",
              "  "
            ],
            "text/plain": [
              "                    Datetime             Tweet Id  \\\n",
              "0  2022-12-14 23:47:00+00:00  1603174748451733504   \n",
              "2  2022-12-14 23:35:29+00:00  1603171849428508673   \n",
              "3  2022-12-14 23:34:57+00:00  1603171716594692096   \n",
              "4  2022-12-14 23:19:59+00:00  1603167951682764800   \n",
              "5  2022-12-14 23:00:12+00:00  1603162972456640517   \n",
              "\n",
              "                                                Text        Username  \\\n",
              "0      Ditto @Safaricom_Care https://t.co/SgK6L3YQhd   OnguruMeister   \n",
              "2  @missy_k32 @AbdulahiAdan10 @Safaricom_Care @be...  I_im_kibagendi   \n",
              "3  @Safaricom_Care, @SafaricomPLC  we demand you ...  MutonyeMutuku_   \n",
              "4  Hey @Safaricom_Care @SafaricomPLC ,15th Decemb...   ndungujosephn   \n",
              "5  @enockmogaka7 @SafaricomPLC @Safaricom_Care Th...  cellestialtech   \n",
              "\n",
              "   LikeCount                                       Clean_Tweets  \n",
              "0          0                                           ditto     \n",
              "2          0      i can see you have started and clearly thi...  \n",
              "3          2     we demand you issue a statement concerning ...  \n",
              "4          0  hey    th december is my birthday i can see it...  \n",
              "5          0     the man is dead  you buggers still holding ...  "
            ]
          },
          "execution_count": 20,
          "metadata": {},
          "output_type": "execute_result"
        }
      ],
      "source": [
        "tweets_df.head()"
      ]
    },
    {
      "cell_type": "code",
      "execution_count": null,
      "metadata": {
        "colab": {
          "base_uri": "https://localhost:8080/",
          "height": 206
        },
        "id": "W4t6N8Qt7qj0",
        "outputId": "fba9dfc6-9499-4a71-ccc9-c19637c733a7"
      },
      "outputs": [
        {
          "data": {
            "text/html": [
              "\n",
              "  <div id=\"df-ebc43e04-476a-4538-9c4e-a2a0140f3c4d\">\n",
              "    <div class=\"colab-df-container\">\n",
              "      <div>\n",
              "<style scoped>\n",
              "    .dataframe tbody tr th:only-of-type {\n",
              "        vertical-align: middle;\n",
              "    }\n",
              "\n",
              "    .dataframe tbody tr th {\n",
              "        vertical-align: top;\n",
              "    }\n",
              "\n",
              "    .dataframe thead th {\n",
              "        text-align: right;\n",
              "    }\n",
              "</style>\n",
              "<table border=\"1\" class=\"dataframe\">\n",
              "  <thead>\n",
              "    <tr style=\"text-align: right;\">\n",
              "      <th></th>\n",
              "      <th>Datetime</th>\n",
              "      <th>Tweet Id</th>\n",
              "      <th>Username</th>\n",
              "      <th>Clean_Tweets</th>\n",
              "    </tr>\n",
              "  </thead>\n",
              "  <tbody>\n",
              "    <tr>\n",
              "      <th>0</th>\n",
              "      <td>2022-12-14 23:47:00+00:00</td>\n",
              "      <td>1603174748451733504</td>\n",
              "      <td>OnguruMeister</td>\n",
              "      <td>ditto</td>\n",
              "    </tr>\n",
              "    <tr>\n",
              "      <th>2</th>\n",
              "      <td>2022-12-14 23:35:29+00:00</td>\n",
              "      <td>1603171849428508673</td>\n",
              "      <td>I_im_kibagendi</td>\n",
              "      <td>i can see you have started and clearly thi...</td>\n",
              "    </tr>\n",
              "    <tr>\n",
              "      <th>3</th>\n",
              "      <td>2022-12-14 23:34:57+00:00</td>\n",
              "      <td>1603171716594692096</td>\n",
              "      <td>MutonyeMutuku_</td>\n",
              "      <td>we demand you issue a statement concerning ...</td>\n",
              "    </tr>\n",
              "    <tr>\n",
              "      <th>4</th>\n",
              "      <td>2022-12-14 23:19:59+00:00</td>\n",
              "      <td>1603167951682764800</td>\n",
              "      <td>ndungujosephn</td>\n",
              "      <td>hey    th december is my birthday i can see it...</td>\n",
              "    </tr>\n",
              "    <tr>\n",
              "      <th>5</th>\n",
              "      <td>2022-12-14 23:00:12+00:00</td>\n",
              "      <td>1603162972456640517</td>\n",
              "      <td>cellestialtech</td>\n",
              "      <td>the man is dead  you buggers still holding ...</td>\n",
              "    </tr>\n",
              "  </tbody>\n",
              "</table>\n",
              "</div>\n",
              "      <button class=\"colab-df-convert\" onclick=\"convertToInteractive('df-ebc43e04-476a-4538-9c4e-a2a0140f3c4d')\"\n",
              "              title=\"Convert this dataframe to an interactive table.\"\n",
              "              style=\"display:none;\">\n",
              "        \n",
              "  <svg xmlns=\"http://www.w3.org/2000/svg\" height=\"24px\"viewBox=\"0 0 24 24\"\n",
              "       width=\"24px\">\n",
              "    <path d=\"M0 0h24v24H0V0z\" fill=\"none\"/>\n",
              "    <path d=\"M18.56 5.44l.94 2.06.94-2.06 2.06-.94-2.06-.94-.94-2.06-.94 2.06-2.06.94zm-11 1L8.5 8.5l.94-2.06 2.06-.94-2.06-.94L8.5 2.5l-.94 2.06-2.06.94zm10 10l.94 2.06.94-2.06 2.06-.94-2.06-.94-.94-2.06-.94 2.06-2.06.94z\"/><path d=\"M17.41 7.96l-1.37-1.37c-.4-.4-.92-.59-1.43-.59-.52 0-1.04.2-1.43.59L10.3 9.45l-7.72 7.72c-.78.78-.78 2.05 0 2.83L4 21.41c.39.39.9.59 1.41.59.51 0 1.02-.2 1.41-.59l7.78-7.78 2.81-2.81c.8-.78.8-2.07 0-2.86zM5.41 20L4 18.59l7.72-7.72 1.47 1.35L5.41 20z\"/>\n",
              "  </svg>\n",
              "      </button>\n",
              "      \n",
              "  <style>\n",
              "    .colab-df-container {\n",
              "      display:flex;\n",
              "      flex-wrap:wrap;\n",
              "      gap: 12px;\n",
              "    }\n",
              "\n",
              "    .colab-df-convert {\n",
              "      background-color: #E8F0FE;\n",
              "      border: none;\n",
              "      border-radius: 50%;\n",
              "      cursor: pointer;\n",
              "      display: none;\n",
              "      fill: #1967D2;\n",
              "      height: 32px;\n",
              "      padding: 0 0 0 0;\n",
              "      width: 32px;\n",
              "    }\n",
              "\n",
              "    .colab-df-convert:hover {\n",
              "      background-color: #E2EBFA;\n",
              "      box-shadow: 0px 1px 2px rgba(60, 64, 67, 0.3), 0px 1px 3px 1px rgba(60, 64, 67, 0.15);\n",
              "      fill: #174EA6;\n",
              "    }\n",
              "\n",
              "    [theme=dark] .colab-df-convert {\n",
              "      background-color: #3B4455;\n",
              "      fill: #D2E3FC;\n",
              "    }\n",
              "\n",
              "    [theme=dark] .colab-df-convert:hover {\n",
              "      background-color: #434B5C;\n",
              "      box-shadow: 0px 1px 3px 1px rgba(0, 0, 0, 0.15);\n",
              "      filter: drop-shadow(0px 1px 2px rgba(0, 0, 0, 0.3));\n",
              "      fill: #FFFFFF;\n",
              "    }\n",
              "  </style>\n",
              "\n",
              "      <script>\n",
              "        const buttonEl =\n",
              "          document.querySelector('#df-ebc43e04-476a-4538-9c4e-a2a0140f3c4d button.colab-df-convert');\n",
              "        buttonEl.style.display =\n",
              "          google.colab.kernel.accessAllowed ? 'block' : 'none';\n",
              "\n",
              "        async function convertToInteractive(key) {\n",
              "          const element = document.querySelector('#df-ebc43e04-476a-4538-9c4e-a2a0140f3c4d');\n",
              "          const dataTable =\n",
              "            await google.colab.kernel.invokeFunction('convertToInteractive',\n",
              "                                                     [key], {});\n",
              "          if (!dataTable) return;\n",
              "\n",
              "          const docLinkHtml = 'Like what you see? Visit the ' +\n",
              "            '<a target=\"_blank\" href=https://colab.research.google.com/notebooks/data_table.ipynb>data table notebook</a>'\n",
              "            + ' to learn more about interactive tables.';\n",
              "          element.innerHTML = '';\n",
              "          dataTable['output_type'] = 'display_data';\n",
              "          await google.colab.output.renderOutput(dataTable, element);\n",
              "          const docLink = document.createElement('div');\n",
              "          docLink.innerHTML = docLinkHtml;\n",
              "          element.appendChild(docLink);\n",
              "        }\n",
              "      </script>\n",
              "    </div>\n",
              "  </div>\n",
              "  "
            ],
            "text/plain": [
              "                    Datetime             Tweet Id        Username  \\\n",
              "0  2022-12-14 23:47:00+00:00  1603174748451733504   OnguruMeister   \n",
              "2  2022-12-14 23:35:29+00:00  1603171849428508673  I_im_kibagendi   \n",
              "3  2022-12-14 23:34:57+00:00  1603171716594692096  MutonyeMutuku_   \n",
              "4  2022-12-14 23:19:59+00:00  1603167951682764800   ndungujosephn   \n",
              "5  2022-12-14 23:00:12+00:00  1603162972456640517  cellestialtech   \n",
              "\n",
              "                                        Clean_Tweets  \n",
              "0                                           ditto     \n",
              "2      i can see you have started and clearly thi...  \n",
              "3     we demand you issue a statement concerning ...  \n",
              "4  hey    th december is my birthday i can see it...  \n",
              "5     the man is dead  you buggers still holding ...  "
            ]
          },
          "execution_count": 21,
          "metadata": {},
          "output_type": "execute_result"
        }
      ],
      "source": [
        "df = tweets_df[['Datetime','Tweet Id', 'Username', 'Clean_Tweets']]\n",
        "df.head()"
      ]
    },
    {
      "cell_type": "code",
      "execution_count": null,
      "metadata": {
        "colab": {
          "base_uri": "https://localhost:8080/"
        },
        "id": "Jty_qcBt7qj1",
        "outputId": "4117500a-0439-4afe-e8e9-23002cedc015"
      },
      "outputs": [
        {
          "name": "stdout",
          "output_type": "stream",
          "text": [
            "<class 'pandas.core.frame.DataFrame'>\n",
            "Int64Index: 740364 entries, 0 to 1000000\n",
            "Data columns (total 4 columns):\n",
            " #   Column        Non-Null Count   Dtype              \n",
            "---  ------        --------------   -----              \n",
            " 0   Datetime      740364 non-null  datetime64[ns, UTC]\n",
            " 1   Tweet Id      740364 non-null  int64              \n",
            " 2   Username      740364 non-null  object             \n",
            " 3   Clean_Tweets  740364 non-null  object             \n",
            "dtypes: datetime64[ns, UTC](1), int64(1), object(2)\n",
            "memory usage: 28.2+ MB\n"
          ]
        }
      ],
      "source": [
        "df['Datetime'] = pd.to_datetime(df['Datetime'])\n",
        "\n",
        "df.info()"
      ]
    },
    {
      "cell_type": "code",
      "execution_count": null,
      "metadata": {
        "colab": {
          "base_uri": "https://localhost:8080/",
          "height": 206
        },
        "id": "zh40NyfH7qj1",
        "outputId": "3f52d5c5-69ab-47d8-f5ba-faa66e883a5f"
      },
      "outputs": [
        {
          "data": {
            "text/html": [
              "\n",
              "  <div id=\"df-e8de19fb-2c3e-420a-af5b-48daed3da3c2\">\n",
              "    <div class=\"colab-df-container\">\n",
              "      <div>\n",
              "<style scoped>\n",
              "    .dataframe tbody tr th:only-of-type {\n",
              "        vertical-align: middle;\n",
              "    }\n",
              "\n",
              "    .dataframe tbody tr th {\n",
              "        vertical-align: top;\n",
              "    }\n",
              "\n",
              "    .dataframe thead th {\n",
              "        text-align: right;\n",
              "    }\n",
              "</style>\n",
              "<table border=\"1\" class=\"dataframe\">\n",
              "  <thead>\n",
              "    <tr style=\"text-align: right;\">\n",
              "      <th></th>\n",
              "      <th>Datetime</th>\n",
              "      <th>Tweet Id</th>\n",
              "      <th>Username</th>\n",
              "      <th>Clean_Tweets</th>\n",
              "      <th>hour</th>\n",
              "    </tr>\n",
              "  </thead>\n",
              "  <tbody>\n",
              "    <tr>\n",
              "      <th>0</th>\n",
              "      <td>2022-12-14 23:47:00+00:00</td>\n",
              "      <td>1603174748451733504</td>\n",
              "      <td>OnguruMeister</td>\n",
              "      <td>ditto</td>\n",
              "      <td>23</td>\n",
              "    </tr>\n",
              "    <tr>\n",
              "      <th>2</th>\n",
              "      <td>2022-12-14 23:35:29+00:00</td>\n",
              "      <td>1603171849428508673</td>\n",
              "      <td>I_im_kibagendi</td>\n",
              "      <td>i can see you have started and clearly thi...</td>\n",
              "      <td>23</td>\n",
              "    </tr>\n",
              "    <tr>\n",
              "      <th>3</th>\n",
              "      <td>2022-12-14 23:34:57+00:00</td>\n",
              "      <td>1603171716594692096</td>\n",
              "      <td>MutonyeMutuku_</td>\n",
              "      <td>we demand you issue a statement concerning ...</td>\n",
              "      <td>23</td>\n",
              "    </tr>\n",
              "    <tr>\n",
              "      <th>4</th>\n",
              "      <td>2022-12-14 23:19:59+00:00</td>\n",
              "      <td>1603167951682764800</td>\n",
              "      <td>ndungujosephn</td>\n",
              "      <td>hey    th december is my birthday i can see it...</td>\n",
              "      <td>23</td>\n",
              "    </tr>\n",
              "    <tr>\n",
              "      <th>5</th>\n",
              "      <td>2022-12-14 23:00:12+00:00</td>\n",
              "      <td>1603162972456640517</td>\n",
              "      <td>cellestialtech</td>\n",
              "      <td>the man is dead  you buggers still holding ...</td>\n",
              "      <td>23</td>\n",
              "    </tr>\n",
              "  </tbody>\n",
              "</table>\n",
              "</div>\n",
              "      <button class=\"colab-df-convert\" onclick=\"convertToInteractive('df-e8de19fb-2c3e-420a-af5b-48daed3da3c2')\"\n",
              "              title=\"Convert this dataframe to an interactive table.\"\n",
              "              style=\"display:none;\">\n",
              "        \n",
              "  <svg xmlns=\"http://www.w3.org/2000/svg\" height=\"24px\"viewBox=\"0 0 24 24\"\n",
              "       width=\"24px\">\n",
              "    <path d=\"M0 0h24v24H0V0z\" fill=\"none\"/>\n",
              "    <path d=\"M18.56 5.44l.94 2.06.94-2.06 2.06-.94-2.06-.94-.94-2.06-.94 2.06-2.06.94zm-11 1L8.5 8.5l.94-2.06 2.06-.94-2.06-.94L8.5 2.5l-.94 2.06-2.06.94zm10 10l.94 2.06.94-2.06 2.06-.94-2.06-.94-.94-2.06-.94 2.06-2.06.94z\"/><path d=\"M17.41 7.96l-1.37-1.37c-.4-.4-.92-.59-1.43-.59-.52 0-1.04.2-1.43.59L10.3 9.45l-7.72 7.72c-.78.78-.78 2.05 0 2.83L4 21.41c.39.39.9.59 1.41.59.51 0 1.02-.2 1.41-.59l7.78-7.78 2.81-2.81c.8-.78.8-2.07 0-2.86zM5.41 20L4 18.59l7.72-7.72 1.47 1.35L5.41 20z\"/>\n",
              "  </svg>\n",
              "      </button>\n",
              "      \n",
              "  <style>\n",
              "    .colab-df-container {\n",
              "      display:flex;\n",
              "      flex-wrap:wrap;\n",
              "      gap: 12px;\n",
              "    }\n",
              "\n",
              "    .colab-df-convert {\n",
              "      background-color: #E8F0FE;\n",
              "      border: none;\n",
              "      border-radius: 50%;\n",
              "      cursor: pointer;\n",
              "      display: none;\n",
              "      fill: #1967D2;\n",
              "      height: 32px;\n",
              "      padding: 0 0 0 0;\n",
              "      width: 32px;\n",
              "    }\n",
              "\n",
              "    .colab-df-convert:hover {\n",
              "      background-color: #E2EBFA;\n",
              "      box-shadow: 0px 1px 2px rgba(60, 64, 67, 0.3), 0px 1px 3px 1px rgba(60, 64, 67, 0.15);\n",
              "      fill: #174EA6;\n",
              "    }\n",
              "\n",
              "    [theme=dark] .colab-df-convert {\n",
              "      background-color: #3B4455;\n",
              "      fill: #D2E3FC;\n",
              "    }\n",
              "\n",
              "    [theme=dark] .colab-df-convert:hover {\n",
              "      background-color: #434B5C;\n",
              "      box-shadow: 0px 1px 3px 1px rgba(0, 0, 0, 0.15);\n",
              "      filter: drop-shadow(0px 1px 2px rgba(0, 0, 0, 0.3));\n",
              "      fill: #FFFFFF;\n",
              "    }\n",
              "  </style>\n",
              "\n",
              "      <script>\n",
              "        const buttonEl =\n",
              "          document.querySelector('#df-e8de19fb-2c3e-420a-af5b-48daed3da3c2 button.colab-df-convert');\n",
              "        buttonEl.style.display =\n",
              "          google.colab.kernel.accessAllowed ? 'block' : 'none';\n",
              "\n",
              "        async function convertToInteractive(key) {\n",
              "          const element = document.querySelector('#df-e8de19fb-2c3e-420a-af5b-48daed3da3c2');\n",
              "          const dataTable =\n",
              "            await google.colab.kernel.invokeFunction('convertToInteractive',\n",
              "                                                     [key], {});\n",
              "          if (!dataTable) return;\n",
              "\n",
              "          const docLinkHtml = 'Like what you see? Visit the ' +\n",
              "            '<a target=\"_blank\" href=https://colab.research.google.com/notebooks/data_table.ipynb>data table notebook</a>'\n",
              "            + ' to learn more about interactive tables.';\n",
              "          element.innerHTML = '';\n",
              "          dataTable['output_type'] = 'display_data';\n",
              "          await google.colab.output.renderOutput(dataTable, element);\n",
              "          const docLink = document.createElement('div');\n",
              "          docLink.innerHTML = docLinkHtml;\n",
              "          element.appendChild(docLink);\n",
              "        }\n",
              "      </script>\n",
              "    </div>\n",
              "  </div>\n",
              "  "
            ],
            "text/plain": [
              "                   Datetime             Tweet Id        Username  \\\n",
              "0 2022-12-14 23:47:00+00:00  1603174748451733504   OnguruMeister   \n",
              "2 2022-12-14 23:35:29+00:00  1603171849428508673  I_im_kibagendi   \n",
              "3 2022-12-14 23:34:57+00:00  1603171716594692096  MutonyeMutuku_   \n",
              "4 2022-12-14 23:19:59+00:00  1603167951682764800   ndungujosephn   \n",
              "5 2022-12-14 23:00:12+00:00  1603162972456640517  cellestialtech   \n",
              "\n",
              "                                        Clean_Tweets  hour  \n",
              "0                                           ditto       23  \n",
              "2      i can see you have started and clearly thi...    23  \n",
              "3     we demand you issue a statement concerning ...    23  \n",
              "4  hey    th december is my birthday i can see it...    23  \n",
              "5     the man is dead  you buggers still holding ...    23  "
            ]
          },
          "execution_count": 23,
          "metadata": {},
          "output_type": "execute_result"
        }
      ],
      "source": [
        "df[\"hour\"] = df[\"Datetime\"].apply(lambda x: x.hour)\n",
        "df.head()"
      ]
    },
    {
      "cell_type": "code",
      "execution_count": null,
      "metadata": {
        "id": "ChmMUSWs7qj1"
      },
      "outputs": [],
      "source": [
        "# a function for categorizing time\n",
        "def get_time(hour):\n",
        "  \"\"\" This function checks the time a tweet was tweeted and categorizes it as morning evening or afternoon\"\"\"\n",
        "  if hour >=6 and hour < 12:\n",
        "         return 'Morning'\n",
        "  if hour > 12 and hour < 18:\n",
        "        return 'Afternoon'\n",
        "  else:\n",
        "        return 'Evening'"
      ]
    },
    {
      "cell_type": "code",
      "execution_count": null,
      "metadata": {
        "colab": {
          "base_uri": "https://localhost:8080/"
        },
        "id": "Muj81WIB7qj1",
        "outputId": "538d0fa3-1efa-4b6b-e0ea-415a42e84478"
      },
      "outputs": [
        {
          "data": {
            "text/plain": [
              "Morning      290148\n",
              "Evening      226615\n",
              "Afternoon    223601\n",
              "Name: Time_of_Day, dtype: int64"
            ]
          },
          "execution_count": 25,
          "metadata": {},
          "output_type": "execute_result"
        }
      ],
      "source": [
        "df['Time_of_Day'] = df['hour'].apply(get_time)\n",
        "df['Time_of_Day'].value_counts()"
      ]
    },
    {
      "cell_type": "code",
      "execution_count": null,
      "metadata": {
        "id": "6pr3JBdo7qj1"
      },
      "outputs": [],
      "source": [
        "# # Splitting concatenated words into separate words \n",
        "# df[\"Clean_Tweets\"] = df.Clean_Tweets.apply(lambda x: wordninja.split(str(TextBlob(x))))  \n",
        "# df[\"Clean_Tweets\"] = df.Clean_Tweets.str.join(' ')\n",
        "# df[\"Clean_Tweets\"].head()"
      ]
    },
    {
      "cell_type": "code",
      "execution_count": null,
      "metadata": {
        "colab": {
          "base_uri": "https://localhost:8080/",
          "height": 206
        },
        "id": "-hO2PX6O7qj1",
        "outputId": "49183762-ce49-4816-f451-6a1aa14eed71"
      },
      "outputs": [
        {
          "data": {
            "text/html": [
              "\n",
              "  <div id=\"df-69017ceb-31d3-4fad-bf6a-f147e33c2a5f\">\n",
              "    <div class=\"colab-df-container\">\n",
              "      <div>\n",
              "<style scoped>\n",
              "    .dataframe tbody tr th:only-of-type {\n",
              "        vertical-align: middle;\n",
              "    }\n",
              "\n",
              "    .dataframe tbody tr th {\n",
              "        vertical-align: top;\n",
              "    }\n",
              "\n",
              "    .dataframe thead th {\n",
              "        text-align: right;\n",
              "    }\n",
              "</style>\n",
              "<table border=\"1\" class=\"dataframe\">\n",
              "  <thead>\n",
              "    <tr style=\"text-align: right;\">\n",
              "      <th></th>\n",
              "      <th>Datetime</th>\n",
              "      <th>Tweet Id</th>\n",
              "      <th>Username</th>\n",
              "      <th>Clean_Tweets</th>\n",
              "      <th>hour</th>\n",
              "      <th>Time_of_Day</th>\n",
              "    </tr>\n",
              "  </thead>\n",
              "  <tbody>\n",
              "    <tr>\n",
              "      <th>0</th>\n",
              "      <td>2022-12-14 23:47:00+00:00</td>\n",
              "      <td>1603174748451733504</td>\n",
              "      <td>OnguruMeister</td>\n",
              "      <td>ditto</td>\n",
              "      <td>23</td>\n",
              "      <td>Evening</td>\n",
              "    </tr>\n",
              "    <tr>\n",
              "      <th>2</th>\n",
              "      <td>2022-12-14 23:35:29+00:00</td>\n",
              "      <td>1603171849428508673</td>\n",
              "      <td>I_im_kibagendi</td>\n",
              "      <td>see started clearly show boychild misses funda...</td>\n",
              "      <td>23</td>\n",
              "      <td>Evening</td>\n",
              "    </tr>\n",
              "    <tr>\n",
              "      <th>3</th>\n",
              "      <td>2022-12-14 23:34:57+00:00</td>\n",
              "      <td>1603171716594692096</td>\n",
              "      <td>MutonyeMutuku_</td>\n",
              "      <td>demand statement concerning maxine wahome youv...</td>\n",
              "      <td>23</td>\n",
              "      <td>Evening</td>\n",
              "    </tr>\n",
              "    <tr>\n",
              "      <th>4</th>\n",
              "      <td>2022-12-14 23:19:59+00:00</td>\n",
              "      <td>1603167951682764800</td>\n",
              "      <td>ndungujosephn</td>\n",
              "      <td>th december birthday see something data bundle...</td>\n",
              "      <td>23</td>\n",
              "      <td>Evening</td>\n",
              "    </tr>\n",
              "    <tr>\n",
              "      <th>5</th>\n",
              "      <td>2022-12-14 23:00:12+00:00</td>\n",
              "      <td>1603162972456640517</td>\n",
              "      <td>cellestialtech</td>\n",
              "      <td>man dead buggers holding sponsorship maxinewah...</td>\n",
              "      <td>23</td>\n",
              "      <td>Evening</td>\n",
              "    </tr>\n",
              "  </tbody>\n",
              "</table>\n",
              "</div>\n",
              "      <button class=\"colab-df-convert\" onclick=\"convertToInteractive('df-69017ceb-31d3-4fad-bf6a-f147e33c2a5f')\"\n",
              "              title=\"Convert this dataframe to an interactive table.\"\n",
              "              style=\"display:none;\">\n",
              "        \n",
              "  <svg xmlns=\"http://www.w3.org/2000/svg\" height=\"24px\"viewBox=\"0 0 24 24\"\n",
              "       width=\"24px\">\n",
              "    <path d=\"M0 0h24v24H0V0z\" fill=\"none\"/>\n",
              "    <path d=\"M18.56 5.44l.94 2.06.94-2.06 2.06-.94-2.06-.94-.94-2.06-.94 2.06-2.06.94zm-11 1L8.5 8.5l.94-2.06 2.06-.94-2.06-.94L8.5 2.5l-.94 2.06-2.06.94zm10 10l.94 2.06.94-2.06 2.06-.94-2.06-.94-.94-2.06-.94 2.06-2.06.94z\"/><path d=\"M17.41 7.96l-1.37-1.37c-.4-.4-.92-.59-1.43-.59-.52 0-1.04.2-1.43.59L10.3 9.45l-7.72 7.72c-.78.78-.78 2.05 0 2.83L4 21.41c.39.39.9.59 1.41.59.51 0 1.02-.2 1.41-.59l7.78-7.78 2.81-2.81c.8-.78.8-2.07 0-2.86zM5.41 20L4 18.59l7.72-7.72 1.47 1.35L5.41 20z\"/>\n",
              "  </svg>\n",
              "      </button>\n",
              "      \n",
              "  <style>\n",
              "    .colab-df-container {\n",
              "      display:flex;\n",
              "      flex-wrap:wrap;\n",
              "      gap: 12px;\n",
              "    }\n",
              "\n",
              "    .colab-df-convert {\n",
              "      background-color: #E8F0FE;\n",
              "      border: none;\n",
              "      border-radius: 50%;\n",
              "      cursor: pointer;\n",
              "      display: none;\n",
              "      fill: #1967D2;\n",
              "      height: 32px;\n",
              "      padding: 0 0 0 0;\n",
              "      width: 32px;\n",
              "    }\n",
              "\n",
              "    .colab-df-convert:hover {\n",
              "      background-color: #E2EBFA;\n",
              "      box-shadow: 0px 1px 2px rgba(60, 64, 67, 0.3), 0px 1px 3px 1px rgba(60, 64, 67, 0.15);\n",
              "      fill: #174EA6;\n",
              "    }\n",
              "\n",
              "    [theme=dark] .colab-df-convert {\n",
              "      background-color: #3B4455;\n",
              "      fill: #D2E3FC;\n",
              "    }\n",
              "\n",
              "    [theme=dark] .colab-df-convert:hover {\n",
              "      background-color: #434B5C;\n",
              "      box-shadow: 0px 1px 3px 1px rgba(0, 0, 0, 0.15);\n",
              "      filter: drop-shadow(0px 1px 2px rgba(0, 0, 0, 0.3));\n",
              "      fill: #FFFFFF;\n",
              "    }\n",
              "  </style>\n",
              "\n",
              "      <script>\n",
              "        const buttonEl =\n",
              "          document.querySelector('#df-69017ceb-31d3-4fad-bf6a-f147e33c2a5f button.colab-df-convert');\n",
              "        buttonEl.style.display =\n",
              "          google.colab.kernel.accessAllowed ? 'block' : 'none';\n",
              "\n",
              "        async function convertToInteractive(key) {\n",
              "          const element = document.querySelector('#df-69017ceb-31d3-4fad-bf6a-f147e33c2a5f');\n",
              "          const dataTable =\n",
              "            await google.colab.kernel.invokeFunction('convertToInteractive',\n",
              "                                                     [key], {});\n",
              "          if (!dataTable) return;\n",
              "\n",
              "          const docLinkHtml = 'Like what you see? Visit the ' +\n",
              "            '<a target=\"_blank\" href=https://colab.research.google.com/notebooks/data_table.ipynb>data table notebook</a>'\n",
              "            + ' to learn more about interactive tables.';\n",
              "          element.innerHTML = '';\n",
              "          dataTable['output_type'] = 'display_data';\n",
              "          await google.colab.output.renderOutput(dataTable, element);\n",
              "          const docLink = document.createElement('div');\n",
              "          docLink.innerHTML = docLinkHtml;\n",
              "          element.appendChild(docLink);\n",
              "        }\n",
              "      </script>\n",
              "    </div>\n",
              "  </div>\n",
              "  "
            ],
            "text/plain": [
              "                   Datetime             Tweet Id        Username  \\\n",
              "0 2022-12-14 23:47:00+00:00  1603174748451733504   OnguruMeister   \n",
              "2 2022-12-14 23:35:29+00:00  1603171849428508673  I_im_kibagendi   \n",
              "3 2022-12-14 23:34:57+00:00  1603171716594692096  MutonyeMutuku_   \n",
              "4 2022-12-14 23:19:59+00:00  1603167951682764800   ndungujosephn   \n",
              "5 2022-12-14 23:00:12+00:00  1603162972456640517  cellestialtech   \n",
              "\n",
              "                                        Clean_Tweets  hour Time_of_Day  \n",
              "0                                              ditto    23     Evening  \n",
              "2  see started clearly show boychild misses funda...    23     Evening  \n",
              "3  demand statement concerning maxine wahome youv...    23     Evening  \n",
              "4  th december birthday see something data bundle...    23     Evening  \n",
              "5  man dead buggers holding sponsorship maxinewah...    23     Evening  "
            ]
          },
          "execution_count": 27,
          "metadata": {},
          "output_type": "execute_result"
        }
      ],
      "source": [
        "#Removing stopwords\n",
        "stop_words = stopwords.words('english')\n",
        "new_stopwords = [\"dm\", \"check\", \"kindly\", \"please\", \"na\" , \"ni\", \"get\" , \"ya\", \"hello\", \"still\", \"need\", \"cant\", \"help\", \n",
        "                 \"even\",\"hey\", \"like\", \"issue\", \"whats\", \"hii\", \"since\", \"hi\", \"kwa\", \"using\", \"dont\", \"assist\", \"im\", \"know\", \n",
        "                 \"people\", \"someone\", \"thanks\", \"thank\", \"waiting\", \"today\", \"ive\", \"want\", \"us\", \"use\", \"ama\", \"without\", \n",
        "                 \"trying\", \"guys\", \"happening\"]\n",
        "stop_words.extend(new_stopwords)\n",
        "df[\"Clean_Tweets\"] = df[\"Clean_Tweets\"].apply(lambda x: ' '.join(word for word in x.split () if word not in (stop_words)))\n",
        "df.head()"
      ]
    },
    {
      "cell_type": "code",
      "execution_count": null,
      "metadata": {
        "colab": {
          "base_uri": "https://localhost:8080/",
          "height": 424
        },
        "id": "3o_w_uAO7qj1",
        "outputId": "9f319ec8-e904-479d-c333-64fee7cede71"
      },
      "outputs": [
        {
          "data": {
            "text/html": [
              "\n",
              "  <div id=\"df-5e7e1cf7-903e-435e-9d26-596924664548\">\n",
              "    <div class=\"colab-df-container\">\n",
              "      <div>\n",
              "<style scoped>\n",
              "    .dataframe tbody tr th:only-of-type {\n",
              "        vertical-align: middle;\n",
              "    }\n",
              "\n",
              "    .dataframe tbody tr th {\n",
              "        vertical-align: top;\n",
              "    }\n",
              "\n",
              "    .dataframe thead th {\n",
              "        text-align: right;\n",
              "    }\n",
              "</style>\n",
              "<table border=\"1\" class=\"dataframe\">\n",
              "  <thead>\n",
              "    <tr style=\"text-align: right;\">\n",
              "      <th></th>\n",
              "      <th>Datetime</th>\n",
              "      <th>Tweet Id</th>\n",
              "      <th>Username</th>\n",
              "      <th>Clean_Tweets</th>\n",
              "      <th>hour</th>\n",
              "      <th>Time_of_Day</th>\n",
              "    </tr>\n",
              "  </thead>\n",
              "  <tbody>\n",
              "    <tr>\n",
              "      <th>0</th>\n",
              "      <td>2022-12-14 23:47:00+00:00</td>\n",
              "      <td>1603174748451733504</td>\n",
              "      <td>OnguruMeister</td>\n",
              "      <td>ditto</td>\n",
              "      <td>23</td>\n",
              "      <td>Evening</td>\n",
              "    </tr>\n",
              "    <tr>\n",
              "      <th>2</th>\n",
              "      <td>2022-12-14 23:35:29+00:00</td>\n",
              "      <td>1603171849428508673</td>\n",
              "      <td>I_im_kibagendi</td>\n",
              "      <td>see started clearly show boychild misses funda...</td>\n",
              "      <td>23</td>\n",
              "      <td>Evening</td>\n",
              "    </tr>\n",
              "    <tr>\n",
              "      <th>3</th>\n",
              "      <td>2022-12-14 23:34:57+00:00</td>\n",
              "      <td>1603171716594692096</td>\n",
              "      <td>MutonyeMutuku_</td>\n",
              "      <td>demand statement concerning maxine wahome youv...</td>\n",
              "      <td>23</td>\n",
              "      <td>Evening</td>\n",
              "    </tr>\n",
              "    <tr>\n",
              "      <th>4</th>\n",
              "      <td>2022-12-14 23:19:59+00:00</td>\n",
              "      <td>1603167951682764800</td>\n",
              "      <td>ndungujosephn</td>\n",
              "      <td>th december birthday see something data bundle...</td>\n",
              "      <td>23</td>\n",
              "      <td>Evening</td>\n",
              "    </tr>\n",
              "    <tr>\n",
              "      <th>5</th>\n",
              "      <td>2022-12-14 23:00:12+00:00</td>\n",
              "      <td>1603162972456640517</td>\n",
              "      <td>cellestialtech</td>\n",
              "      <td>man dead buggers holding sponsorship maxinewah...</td>\n",
              "      <td>23</td>\n",
              "      <td>Evening</td>\n",
              "    </tr>\n",
              "    <tr>\n",
              "      <th>...</th>\n",
              "      <td>...</td>\n",
              "      <td>...</td>\n",
              "      <td>...</td>\n",
              "      <td>...</td>\n",
              "      <td>...</td>\n",
              "      <td>...</td>\n",
              "    </tr>\n",
              "    <tr>\n",
              "      <th>999996</th>\n",
              "      <td>2018-10-26 11:00:21+00:00</td>\n",
              "      <td>1055776139237568512</td>\n",
              "      <td>vincegfxpert</td>\n",
              "      <td>god knows happened quick responses forget</td>\n",
              "      <td>11</td>\n",
              "      <td>Morning</td>\n",
              "    </tr>\n",
              "    <tr>\n",
              "      <th>999997</th>\n",
              "      <td>2018-10-26 10:58:57+00:00</td>\n",
              "      <td>1055775786958024704</td>\n",
              "      <td>KThefirst</td>\n",
              "      <td>saf hamjawai nipromote si mfanye ivyo woiye na...</td>\n",
              "      <td>10</td>\n",
              "      <td>Morning</td>\n",
              "    </tr>\n",
              "    <tr>\n",
              "      <th>999998</th>\n",
              "      <td>2018-10-26 10:58:36+00:00</td>\n",
              "      <td>1055775697233424384</td>\n",
              "      <td>gimwesh</td>\n",
              "      <td>havent received promotion used safaricom yrs</td>\n",
              "      <td>10</td>\n",
              "      <td>Morning</td>\n",
              "    </tr>\n",
              "    <tr>\n",
              "      <th>999999</th>\n",
              "      <td>2018-10-26 10:58:27+00:00</td>\n",
              "      <td>1055775662072623105</td>\n",
              "      <td>hbograndmaster</td>\n",
              "      <td>chenye nishawahi shinda tu njaa</td>\n",
              "      <td>10</td>\n",
              "      <td>Morning</td>\n",
              "    </tr>\n",
              "    <tr>\n",
              "      <th>1000000</th>\n",
              "      <td>2018-10-26 10:58:23+00:00</td>\n",
              "      <td>1055775643055673344</td>\n",
              "      <td>munene___</td>\n",
              "      <td>nataka za mzinga leo friday</td>\n",
              "      <td>10</td>\n",
              "      <td>Morning</td>\n",
              "    </tr>\n",
              "  </tbody>\n",
              "</table>\n",
              "<p>740364 rows × 6 columns</p>\n",
              "</div>\n",
              "      <button class=\"colab-df-convert\" onclick=\"convertToInteractive('df-5e7e1cf7-903e-435e-9d26-596924664548')\"\n",
              "              title=\"Convert this dataframe to an interactive table.\"\n",
              "              style=\"display:none;\">\n",
              "        \n",
              "  <svg xmlns=\"http://www.w3.org/2000/svg\" height=\"24px\"viewBox=\"0 0 24 24\"\n",
              "       width=\"24px\">\n",
              "    <path d=\"M0 0h24v24H0V0z\" fill=\"none\"/>\n",
              "    <path d=\"M18.56 5.44l.94 2.06.94-2.06 2.06-.94-2.06-.94-.94-2.06-.94 2.06-2.06.94zm-11 1L8.5 8.5l.94-2.06 2.06-.94-2.06-.94L8.5 2.5l-.94 2.06-2.06.94zm10 10l.94 2.06.94-2.06 2.06-.94-2.06-.94-.94-2.06-.94 2.06-2.06.94z\"/><path d=\"M17.41 7.96l-1.37-1.37c-.4-.4-.92-.59-1.43-.59-.52 0-1.04.2-1.43.59L10.3 9.45l-7.72 7.72c-.78.78-.78 2.05 0 2.83L4 21.41c.39.39.9.59 1.41.59.51 0 1.02-.2 1.41-.59l7.78-7.78 2.81-2.81c.8-.78.8-2.07 0-2.86zM5.41 20L4 18.59l7.72-7.72 1.47 1.35L5.41 20z\"/>\n",
              "  </svg>\n",
              "      </button>\n",
              "      \n",
              "  <style>\n",
              "    .colab-df-container {\n",
              "      display:flex;\n",
              "      flex-wrap:wrap;\n",
              "      gap: 12px;\n",
              "    }\n",
              "\n",
              "    .colab-df-convert {\n",
              "      background-color: #E8F0FE;\n",
              "      border: none;\n",
              "      border-radius: 50%;\n",
              "      cursor: pointer;\n",
              "      display: none;\n",
              "      fill: #1967D2;\n",
              "      height: 32px;\n",
              "      padding: 0 0 0 0;\n",
              "      width: 32px;\n",
              "    }\n",
              "\n",
              "    .colab-df-convert:hover {\n",
              "      background-color: #E2EBFA;\n",
              "      box-shadow: 0px 1px 2px rgba(60, 64, 67, 0.3), 0px 1px 3px 1px rgba(60, 64, 67, 0.15);\n",
              "      fill: #174EA6;\n",
              "    }\n",
              "\n",
              "    [theme=dark] .colab-df-convert {\n",
              "      background-color: #3B4455;\n",
              "      fill: #D2E3FC;\n",
              "    }\n",
              "\n",
              "    [theme=dark] .colab-df-convert:hover {\n",
              "      background-color: #434B5C;\n",
              "      box-shadow: 0px 1px 3px 1px rgba(0, 0, 0, 0.15);\n",
              "      filter: drop-shadow(0px 1px 2px rgba(0, 0, 0, 0.3));\n",
              "      fill: #FFFFFF;\n",
              "    }\n",
              "  </style>\n",
              "\n",
              "      <script>\n",
              "        const buttonEl =\n",
              "          document.querySelector('#df-5e7e1cf7-903e-435e-9d26-596924664548 button.colab-df-convert');\n",
              "        buttonEl.style.display =\n",
              "          google.colab.kernel.accessAllowed ? 'block' : 'none';\n",
              "\n",
              "        async function convertToInteractive(key) {\n",
              "          const element = document.querySelector('#df-5e7e1cf7-903e-435e-9d26-596924664548');\n",
              "          const dataTable =\n",
              "            await google.colab.kernel.invokeFunction('convertToInteractive',\n",
              "                                                     [key], {});\n",
              "          if (!dataTable) return;\n",
              "\n",
              "          const docLinkHtml = 'Like what you see? Visit the ' +\n",
              "            '<a target=\"_blank\" href=https://colab.research.google.com/notebooks/data_table.ipynb>data table notebook</a>'\n",
              "            + ' to learn more about interactive tables.';\n",
              "          element.innerHTML = '';\n",
              "          dataTable['output_type'] = 'display_data';\n",
              "          await google.colab.output.renderOutput(dataTable, element);\n",
              "          const docLink = document.createElement('div');\n",
              "          docLink.innerHTML = docLinkHtml;\n",
              "          element.appendChild(docLink);\n",
              "        }\n",
              "      </script>\n",
              "    </div>\n",
              "  </div>\n",
              "  "
            ],
            "text/plain": [
              "                         Datetime             Tweet Id        Username  \\\n",
              "0       2022-12-14 23:47:00+00:00  1603174748451733504   OnguruMeister   \n",
              "2       2022-12-14 23:35:29+00:00  1603171849428508673  I_im_kibagendi   \n",
              "3       2022-12-14 23:34:57+00:00  1603171716594692096  MutonyeMutuku_   \n",
              "4       2022-12-14 23:19:59+00:00  1603167951682764800   ndungujosephn   \n",
              "5       2022-12-14 23:00:12+00:00  1603162972456640517  cellestialtech   \n",
              "...                           ...                  ...             ...   \n",
              "999996  2018-10-26 11:00:21+00:00  1055776139237568512    vincegfxpert   \n",
              "999997  2018-10-26 10:58:57+00:00  1055775786958024704       KThefirst   \n",
              "999998  2018-10-26 10:58:36+00:00  1055775697233424384         gimwesh   \n",
              "999999  2018-10-26 10:58:27+00:00  1055775662072623105  hbograndmaster   \n",
              "1000000 2018-10-26 10:58:23+00:00  1055775643055673344       munene___   \n",
              "\n",
              "                                              Clean_Tweets  hour Time_of_Day  \n",
              "0                                                    ditto    23     Evening  \n",
              "2        see started clearly show boychild misses funda...    23     Evening  \n",
              "3        demand statement concerning maxine wahome youv...    23     Evening  \n",
              "4        th december birthday see something data bundle...    23     Evening  \n",
              "5        man dead buggers holding sponsorship maxinewah...    23     Evening  \n",
              "...                                                    ...   ...         ...  \n",
              "999996           god knows happened quick responses forget    11     Morning  \n",
              "999997   saf hamjawai nipromote si mfanye ivyo woiye na...    10     Morning  \n",
              "999998        havent received promotion used safaricom yrs    10     Morning  \n",
              "999999                     chenye nishawahi shinda tu njaa    10     Morning  \n",
              "1000000                        nataka za mzinga leo friday    10     Morning  \n",
              "\n",
              "[740364 rows x 6 columns]"
            ]
          },
          "execution_count": 28,
          "metadata": {},
          "output_type": "execute_result"
        }
      ],
      "source": [
        "# mapping the clean tweets to a new column in the dataframe\n",
        "ls2=[]\n",
        "for i in df[\"Clean_Tweets\"]:\n",
        "    ls2.append(basic_clean(i))\n",
        "\n",
        "df['Clean_Tweets']=ls2\n",
        "# check the df\n",
        "df"
      ]
    },
    {
      "cell_type": "code",
      "execution_count": null,
      "metadata": {
        "colab": {
          "base_uri": "https://localhost:8080/"
        },
        "id": "dRRZHAgF7qj1",
        "outputId": "5d9e1dec-1b48-43c5-d04c-fd1311cddb35",
        "scrolled": true
      },
      "outputs": [
        {
          "data": {
            "text/plain": [
              "mb              3922\n",
              "mobile          3912\n",
              "shop            3901\n",
              "say             3887\n",
              "end             3870\n",
              "taking          3859\n",
              "text            3821\n",
              "assistance      3820\n",
              "true            3785\n",
              "bank            3785\n",
              "transactions    3779\n",
              "thing           3703\n",
              "n               3700\n",
              "register        3700\n",
              "support         3679\n",
              "it’s            3668\n",
              "cost            3668\n",
              "offer           3664\n",
              "confirm         3660\n",
              "daily           3658\n",
              "person          3634\n",
              "ok              3623\n",
              "lines           3620\n",
              "doesnt          3593\n",
              "place           3496\n",
              "statement       3481\n",
              "ethiopian       3455\n",
              "kenyans         3444\n",
              "okay            3441\n",
              "wait            3438\n",
              "contact         3427\n",
              "hope            3415\n",
              "advise          3404\n",
              "kwani           3378\n",
              "mtu             3374\n",
              "saf             3368\n",
              "poor            3365\n",
              "refund          3354\n",
              "loan            3353\n",
              "asap            3353\n",
              "happened        3334\n",
              "ata             3322\n",
              "coz             3320\n",
              "must            3311\n",
              "tigray          3309\n",
              "follow          3300\n",
              "youre           3295\n",
              "code            3283\n",
              "receiving       3232\n",
              "right           3227\n",
              "dtype: int64"
            ]
          },
          "execution_count": 29,
          "metadata": {},
          "output_type": "execute_result"
        }
      ],
      "source": [
        "# frequent words\n",
        "freq = pd.Series(' '.join(df.Clean_Tweets).split()).value_counts()[200:250]\n",
        "freq"
      ]
    },
    {
      "cell_type": "markdown",
      "metadata": {
        "id": "HwNIE4lUmOGB"
      },
      "source": [
        "#### Creating Labels"
      ]
    },
    {
      "cell_type": "code",
      "execution_count": null,
      "metadata": {
        "colab": {
          "base_uri": "https://localhost:8080/"
        },
        "id": "RDTa4xDM7qj2",
        "outputId": "0b84e866-d325-4655-d1ef-28c72e3284a6"
      },
      "outputs": [
        {
          "data": {
            "text/plain": [
              "general               375824\n",
              "mpesa                 120746\n",
              "valueaddedservices     88090\n",
              "internet               87654\n",
              "voice                  43847\n",
              "customercare           24203\n",
              "Name: Category, dtype: int64"
            ]
          },
          "execution_count": 30,
          "metadata": {},
          "output_type": "execute_result"
        }
      ],
      "source": [
        "# creating labels\n",
        "\n",
        "# frequent words n tweets for categorization\n",
        "mpesa = {\"pesa\", \"m-pesa\", \"esa\", \"send money\", \"mpesa\", \"money\", \"till\", \"fuliza\", \"reverse\", \"transaction\", \n",
        "         \"transactions\" \"reversal\" , \"agent\", \"paybill\", \"buygoods\", \"statement\", \"loan\", \"bank\", \"cash\", \"recipient\", \n",
        "         \"mshwari\", \"withdraw\",\"lipa\", \"reversed\", \"sentmoney\", \"kcb\", \"pay\", \"pochi\", \"pochilabiashara\", \"refund\"}\n",
        "voice = {\"credit\", \"card\",'credo', \"okoa\",\"credit\", \"airtime\", \"call\", \"minutes\", \"calls\", \"phone\", \"jahazi\"}\n",
        "internet = {\"fibre\", \"fiber\", \"faiba\",'safaricom home', \"data\", \"internet\", \"bundles\", \"bundle\", \"network\", \"gb\", \"wifi\", \n",
        "            \"connection\", \"youtube\", \"net\", \"mbps\", \"mbs\", \"mb\", \"hanging\"}\n",
        "valueaddedservices = {\"bonga\", \"daima\" , \"lipamdogomdogo\", \"hustler\", \"points\", \"customerobsessionmonth\", \"twendetukiuke\" , \n",
        "                      \"safaricomforyou\", \"uteowafuraha\", \"birthday\", \"app\", \"zuri\", \"csmonth\", \"tuinuane\"}\n",
        "customercare = {\"simcards\", \"customer\", \"service\", \"customerservice\", \"poor\", \"problem\", \"register\", \"registration\", \n",
        "                \"registered\", \"scam\", \"sim\"}\n",
        "def label_tweet(tweet):\n",
        "    if mpesa.intersection(tweet.split(\" \")):\n",
        "        return \"mpesa\"\n",
        "    elif internet.intersection(tweet.split(\" \")):\n",
        "        return \"internet\"\n",
        "    elif voice.intersection(tweet.split(\" \")):\n",
        "        return \"voice\"\n",
        "    elif valueaddedservices.intersection(tweet.split(\" \")):\n",
        "        return \"valueaddedservices\"\n",
        "    elif customercare.intersection(tweet.split(\" \")):\n",
        "        return \"customercare\"\n",
        "    else:\n",
        "        return \"general\"\n",
        "# Add a new column to the dataframe with the labels for each tweet\n",
        "df[\"Category\"] = df['Clean_Tweets'].apply(label_tweet)\n",
        "df[\"Category\"].value_counts()\n"
      ]
    },
    {
      "cell_type": "code",
      "execution_count": null,
      "metadata": {
        "colab": {
          "base_uri": "https://localhost:8080/",
          "height": 424
        },
        "id": "-2-6GhSt7qj2",
        "outputId": "ae09bf2c-27f3-4721-b178-013827908673"
      },
      "outputs": [
        {
          "data": {
            "text/html": [
              "\n",
              "  <div id=\"df-b947ca34-c3c0-462e-b4e6-ff40c4f7b734\">\n",
              "    <div class=\"colab-df-container\">\n",
              "      <div>\n",
              "<style scoped>\n",
              "    .dataframe tbody tr th:only-of-type {\n",
              "        vertical-align: middle;\n",
              "    }\n",
              "\n",
              "    .dataframe tbody tr th {\n",
              "        vertical-align: top;\n",
              "    }\n",
              "\n",
              "    .dataframe thead th {\n",
              "        text-align: right;\n",
              "    }\n",
              "</style>\n",
              "<table border=\"1\" class=\"dataframe\">\n",
              "  <thead>\n",
              "    <tr style=\"text-align: right;\">\n",
              "      <th></th>\n",
              "      <th>Datetime</th>\n",
              "      <th>Tweet Id</th>\n",
              "      <th>Username</th>\n",
              "      <th>Clean_Tweets</th>\n",
              "      <th>hour</th>\n",
              "      <th>Time_of_Day</th>\n",
              "      <th>Category</th>\n",
              "    </tr>\n",
              "  </thead>\n",
              "  <tbody>\n",
              "    <tr>\n",
              "      <th>2</th>\n",
              "      <td>2022-12-14 23:35:29+00:00</td>\n",
              "      <td>1603171849428508673</td>\n",
              "      <td>I_im_kibagendi</td>\n",
              "      <td>see started clearly show boychild misses funda...</td>\n",
              "      <td>23</td>\n",
              "      <td>Evening</td>\n",
              "      <td>general</td>\n",
              "    </tr>\n",
              "    <tr>\n",
              "      <th>3</th>\n",
              "      <td>2022-12-14 23:34:57+00:00</td>\n",
              "      <td>1603171716594692096</td>\n",
              "      <td>MutonyeMutuku_</td>\n",
              "      <td>demand statement concerning maxine wahome youv...</td>\n",
              "      <td>23</td>\n",
              "      <td>Evening</td>\n",
              "      <td>mpesa</td>\n",
              "    </tr>\n",
              "    <tr>\n",
              "      <th>4</th>\n",
              "      <td>2022-12-14 23:19:59+00:00</td>\n",
              "      <td>1603167951682764800</td>\n",
              "      <td>ndungujosephn</td>\n",
              "      <td>th december birthday see something data bundle...</td>\n",
              "      <td>23</td>\n",
              "      <td>Evening</td>\n",
              "      <td>internet</td>\n",
              "    </tr>\n",
              "    <tr>\n",
              "      <th>5</th>\n",
              "      <td>2022-12-14 23:00:12+00:00</td>\n",
              "      <td>1603162972456640517</td>\n",
              "      <td>cellestialtech</td>\n",
              "      <td>man dead buggers holding sponsorship maxinewah...</td>\n",
              "      <td>23</td>\n",
              "      <td>Evening</td>\n",
              "      <td>general</td>\n",
              "    </tr>\n",
              "    <tr>\n",
              "      <th>6</th>\n",
              "      <td>2022-12-14 22:58:45+00:00</td>\n",
              "      <td>1603162608898637824</td>\n",
              "      <td>LuckySa89737923</td>\n",
              "      <td>kumbe hizi bundles za saf huwa scam thought zi...</td>\n",
              "      <td>22</td>\n",
              "      <td>Evening</td>\n",
              "      <td>internet</td>\n",
              "    </tr>\n",
              "    <tr>\n",
              "      <th>...</th>\n",
              "      <td>...</td>\n",
              "      <td>...</td>\n",
              "      <td>...</td>\n",
              "      <td>...</td>\n",
              "      <td>...</td>\n",
              "      <td>...</td>\n",
              "      <td>...</td>\n",
              "    </tr>\n",
              "    <tr>\n",
              "      <th>999996</th>\n",
              "      <td>2018-10-26 11:00:21+00:00</td>\n",
              "      <td>1055776139237568512</td>\n",
              "      <td>vincegfxpert</td>\n",
              "      <td>god knows happened quick responses forget</td>\n",
              "      <td>11</td>\n",
              "      <td>Morning</td>\n",
              "      <td>general</td>\n",
              "    </tr>\n",
              "    <tr>\n",
              "      <th>999997</th>\n",
              "      <td>2018-10-26 10:58:57+00:00</td>\n",
              "      <td>1055775786958024704</td>\n",
              "      <td>KThefirst</td>\n",
              "      <td>saf hamjawai nipromote si mfanye ivyo woiye na...</td>\n",
              "      <td>10</td>\n",
              "      <td>Morning</td>\n",
              "      <td>general</td>\n",
              "    </tr>\n",
              "    <tr>\n",
              "      <th>999998</th>\n",
              "      <td>2018-10-26 10:58:36+00:00</td>\n",
              "      <td>1055775697233424384</td>\n",
              "      <td>gimwesh</td>\n",
              "      <td>havent received promotion used safaricom yrs</td>\n",
              "      <td>10</td>\n",
              "      <td>Morning</td>\n",
              "      <td>general</td>\n",
              "    </tr>\n",
              "    <tr>\n",
              "      <th>999999</th>\n",
              "      <td>2018-10-26 10:58:27+00:00</td>\n",
              "      <td>1055775662072623105</td>\n",
              "      <td>hbograndmaster</td>\n",
              "      <td>chenye nishawahi shinda tu njaa</td>\n",
              "      <td>10</td>\n",
              "      <td>Morning</td>\n",
              "      <td>general</td>\n",
              "    </tr>\n",
              "    <tr>\n",
              "      <th>1000000</th>\n",
              "      <td>2018-10-26 10:58:23+00:00</td>\n",
              "      <td>1055775643055673344</td>\n",
              "      <td>munene___</td>\n",
              "      <td>nataka za mzinga leo friday</td>\n",
              "      <td>10</td>\n",
              "      <td>Morning</td>\n",
              "      <td>general</td>\n",
              "    </tr>\n",
              "  </tbody>\n",
              "</table>\n",
              "<p>446076 rows × 7 columns</p>\n",
              "</div>\n",
              "      <button class=\"colab-df-convert\" onclick=\"convertToInteractive('df-b947ca34-c3c0-462e-b4e6-ff40c4f7b734')\"\n",
              "              title=\"Convert this dataframe to an interactive table.\"\n",
              "              style=\"display:none;\">\n",
              "        \n",
              "  <svg xmlns=\"http://www.w3.org/2000/svg\" height=\"24px\"viewBox=\"0 0 24 24\"\n",
              "       width=\"24px\">\n",
              "    <path d=\"M0 0h24v24H0V0z\" fill=\"none\"/>\n",
              "    <path d=\"M18.56 5.44l.94 2.06.94-2.06 2.06-.94-2.06-.94-.94-2.06-.94 2.06-2.06.94zm-11 1L8.5 8.5l.94-2.06 2.06-.94-2.06-.94L8.5 2.5l-.94 2.06-2.06.94zm10 10l.94 2.06.94-2.06 2.06-.94-2.06-.94-.94-2.06-.94 2.06-2.06.94z\"/><path d=\"M17.41 7.96l-1.37-1.37c-.4-.4-.92-.59-1.43-.59-.52 0-1.04.2-1.43.59L10.3 9.45l-7.72 7.72c-.78.78-.78 2.05 0 2.83L4 21.41c.39.39.9.59 1.41.59.51 0 1.02-.2 1.41-.59l7.78-7.78 2.81-2.81c.8-.78.8-2.07 0-2.86zM5.41 20L4 18.59l7.72-7.72 1.47 1.35L5.41 20z\"/>\n",
              "  </svg>\n",
              "      </button>\n",
              "      \n",
              "  <style>\n",
              "    .colab-df-container {\n",
              "      display:flex;\n",
              "      flex-wrap:wrap;\n",
              "      gap: 12px;\n",
              "    }\n",
              "\n",
              "    .colab-df-convert {\n",
              "      background-color: #E8F0FE;\n",
              "      border: none;\n",
              "      border-radius: 50%;\n",
              "      cursor: pointer;\n",
              "      display: none;\n",
              "      fill: #1967D2;\n",
              "      height: 32px;\n",
              "      padding: 0 0 0 0;\n",
              "      width: 32px;\n",
              "    }\n",
              "\n",
              "    .colab-df-convert:hover {\n",
              "      background-color: #E2EBFA;\n",
              "      box-shadow: 0px 1px 2px rgba(60, 64, 67, 0.3), 0px 1px 3px 1px rgba(60, 64, 67, 0.15);\n",
              "      fill: #174EA6;\n",
              "    }\n",
              "\n",
              "    [theme=dark] .colab-df-convert {\n",
              "      background-color: #3B4455;\n",
              "      fill: #D2E3FC;\n",
              "    }\n",
              "\n",
              "    [theme=dark] .colab-df-convert:hover {\n",
              "      background-color: #434B5C;\n",
              "      box-shadow: 0px 1px 3px 1px rgba(0, 0, 0, 0.15);\n",
              "      filter: drop-shadow(0px 1px 2px rgba(0, 0, 0, 0.3));\n",
              "      fill: #FFFFFF;\n",
              "    }\n",
              "  </style>\n",
              "\n",
              "      <script>\n",
              "        const buttonEl =\n",
              "          document.querySelector('#df-b947ca34-c3c0-462e-b4e6-ff40c4f7b734 button.colab-df-convert');\n",
              "        buttonEl.style.display =\n",
              "          google.colab.kernel.accessAllowed ? 'block' : 'none';\n",
              "\n",
              "        async function convertToInteractive(key) {\n",
              "          const element = document.querySelector('#df-b947ca34-c3c0-462e-b4e6-ff40c4f7b734');\n",
              "          const dataTable =\n",
              "            await google.colab.kernel.invokeFunction('convertToInteractive',\n",
              "                                                     [key], {});\n",
              "          if (!dataTable) return;\n",
              "\n",
              "          const docLinkHtml = 'Like what you see? Visit the ' +\n",
              "            '<a target=\"_blank\" href=https://colab.research.google.com/notebooks/data_table.ipynb>data table notebook</a>'\n",
              "            + ' to learn more about interactive tables.';\n",
              "          element.innerHTML = '';\n",
              "          dataTable['output_type'] = 'display_data';\n",
              "          await google.colab.output.renderOutput(dataTable, element);\n",
              "          const docLink = document.createElement('div');\n",
              "          docLink.innerHTML = docLinkHtml;\n",
              "          element.appendChild(docLink);\n",
              "        }\n",
              "      </script>\n",
              "    </div>\n",
              "  </div>\n",
              "  "
            ],
            "text/plain": [
              "                         Datetime             Tweet Id         Username  \\\n",
              "2       2022-12-14 23:35:29+00:00  1603171849428508673   I_im_kibagendi   \n",
              "3       2022-12-14 23:34:57+00:00  1603171716594692096   MutonyeMutuku_   \n",
              "4       2022-12-14 23:19:59+00:00  1603167951682764800    ndungujosephn   \n",
              "5       2022-12-14 23:00:12+00:00  1603162972456640517   cellestialtech   \n",
              "6       2022-12-14 22:58:45+00:00  1603162608898637824  LuckySa89737923   \n",
              "...                           ...                  ...              ...   \n",
              "999996  2018-10-26 11:00:21+00:00  1055776139237568512     vincegfxpert   \n",
              "999997  2018-10-26 10:58:57+00:00  1055775786958024704        KThefirst   \n",
              "999998  2018-10-26 10:58:36+00:00  1055775697233424384          gimwesh   \n",
              "999999  2018-10-26 10:58:27+00:00  1055775662072623105   hbograndmaster   \n",
              "1000000 2018-10-26 10:58:23+00:00  1055775643055673344        munene___   \n",
              "\n",
              "                                              Clean_Tweets  hour Time_of_Day  \\\n",
              "2        see started clearly show boychild misses funda...    23     Evening   \n",
              "3        demand statement concerning maxine wahome youv...    23     Evening   \n",
              "4        th december birthday see something data bundle...    23     Evening   \n",
              "5        man dead buggers holding sponsorship maxinewah...    23     Evening   \n",
              "6        kumbe hizi bundles za saf huwa scam thought zi...    22     Evening   \n",
              "...                                                    ...   ...         ...   \n",
              "999996           god knows happened quick responses forget    11     Morning   \n",
              "999997   saf hamjawai nipromote si mfanye ivyo woiye na...    10     Morning   \n",
              "999998        havent received promotion used safaricom yrs    10     Morning   \n",
              "999999                     chenye nishawahi shinda tu njaa    10     Morning   \n",
              "1000000                        nataka za mzinga leo friday    10     Morning   \n",
              "\n",
              "         Category  \n",
              "2         general  \n",
              "3           mpesa  \n",
              "4        internet  \n",
              "5         general  \n",
              "6        internet  \n",
              "...           ...  \n",
              "999996    general  \n",
              "999997    general  \n",
              "999998    general  \n",
              "999999    general  \n",
              "1000000   general  \n",
              "\n",
              "[446076 rows x 7 columns]"
            ]
          },
          "execution_count": 31,
          "metadata": {},
          "output_type": "execute_result"
        }
      ],
      "source": [
        "# removing tweets with less than three words \n",
        "df[\"Clean_Tweets\"] = df.Clean_Tweets.apply(lambda x: x if len(x.split()) > 3 else None)\n",
        "df = df.dropna()\n",
        "df"
      ]
    },
    {
      "cell_type": "markdown",
      "metadata": {
        "id": "_vp0O_z87qj2"
      },
      "source": [
        "### 3.2 Exploratory Data Analysis\n",
        "\n",
        "---\n",
        "\n"
      ]
    },
    {
      "cell_type": "markdown",
      "metadata": {
        "id": "so-vU4VJ7qj2"
      },
      "source": [
        "#### 3.2.1 Univariate Data Analysis"
      ]
    },
    {
      "cell_type": "code",
      "execution_count": null,
      "metadata": {
        "id": "zHpM1xD8FIzh"
      },
      "outputs": [],
      "source": [
        "#\n",
        "def plot_3d_pie_chart(data,  labels):\n",
        "  # Set figure size and style\n",
        "  plt.figure(figsize=(8, 8))\n",
        "  sns.set_style('darkgrid')\n",
        "\n",
        "  # Create pie chart\n",
        "  wedges, texts = plt.pie(data.value_counts(), labels=labels, shadow=True )\n",
        "\n",
        "  # Set pie chart properties\n",
        "  plt.title('3D Pie Chart')\n",
        "  plt.legend(wedges, labels, title='Labels', bbox_to_anchor=(1, 0.5, 0.5, 0.5))\n",
        "  plt.axis('equal')\n",
        "\n",
        "  # Show plot\n",
        "  plt.show()\n"
      ]
    },
    {
      "cell_type": "code",
      "execution_count": null,
      "metadata": {
        "id": "imBC_mwUGb9-"
      },
      "outputs": [],
      "source": [
        "labels= set(df['Category'].values)"
      ]
    },
    {
      "cell_type": "code",
      "execution_count": null,
      "metadata": {
        "colab": {
          "base_uri": "https://localhost:8080/",
          "height": 482
        },
        "id": "XQc2jpeXGL7q",
        "outputId": "ee04d971-08c0-4ad3-9e03-a3aa7170c391"
      },
      "outputs": [
        {
          "data": {
            "image/png": "[encoded data removed]",
            "text/plain": [
              "<Figure size 576x576 with 1 Axes>"
            ]
          },
          "metadata": {},
          "output_type": "display_data"
        }
      ],
      "source": [
        "plot_3d_pie_chart(df['Category'] ,labels)"
      ]
    },
    {
      "cell_type": "code",
      "execution_count": null,
      "metadata": {
        "id": "ElF41mXd7qj2"
      },
      "outputs": [],
      "source": [
        "# a function for displaying a count plot\n",
        "def count_plot(df,column):\n",
        "\n",
        "  \"\"\"This function  creates an sns countplot for a given column\"\"\"\n",
        "  \n",
        "  plt.figure(figsize=(16,8))\n",
        "  sns.countplot(x=column,data=df, order=df[column].value_counts().iloc[:5].index, palette='BuPu')\n",
        "  plt.title(f'{column}')\n",
        "  plt.xlabel(column)\n",
        "  plt.xticks(rotation=90)\n",
        "  plt.show();"
      ]
    },
    {
      "cell_type": "code",
      "execution_count": null,
      "metadata": {
        "colab": {
          "base_uri": "https://localhost:8080/",
          "height": 603
        },
        "id": "nYSnCx5o7qj2",
        "outputId": "f4b4b425-7e06-4487-caa3-c5538d54c06f"
      },
      "outputs": [
        {
          "data": {
            "image/png": "[encoded data removed]",
            "text/plain": [
              "<Figure size 1152x576 with 1 Axes>"
            ]
          },
          "metadata": {},
          "output_type": "display_data"
        }
      ],
      "source": [
        "count_plot(df, 'Category')"
      ]
    },
    {
      "cell_type": "code",
      "execution_count": null,
      "metadata": {
        "colab": {
          "base_uri": "https://localhost:8080/",
          "height": 552
        },
        "id": "oNA4KjoW7qj2",
        "outputId": "657299f7-2713-4efc-c69e-d2ec7c2af489"
      },
      "outputs": [
        {
          "data": {
            "image/png": "[encoded data removed]",
            "text/plain": [
              "<Figure size 1152x576 with 1 Axes>"
            ]
          },
          "metadata": {},
          "output_type": "display_data"
        }
      ],
      "source": [
        "count_plot(df, 'Time_of_Day')"
      ]
    },
    {
      "cell_type": "code",
      "execution_count": null,
      "metadata": {
        "colab": {
          "base_uri": "https://localhost:8080/",
          "height": 513
        },
        "id": "R1l8d2yy-AXg",
        "outputId": "405e79a7-5edf-4e5a-814c-7d82d028ed80"
      },
      "outputs": [
        {
          "data": {
            "image/png": "[encoded data removed]",
            "text/plain": [
              "<Figure size 792x576 with 1 Axes>"
            ]
          },
          "metadata": {},
          "output_type": "display_data"
        }
      ],
      "source": [
        "# Display the length of each tweet\n",
        "df['Clean_Tweets'].apply(len).plot(bins=100, kind = 'hist',figsize = (11,8),color=\"purple\")\n",
        "plt.title('Length frequency of all tweets')\n",
        "plt.xlabel(\"Characters\")\n",
        "plt.show()"
      ]
    },
    {
      "cell_type": "code",
      "execution_count": null,
      "metadata": {
        "colab": {
          "base_uri": "https://localhost:8080/",
          "height": 487
        },
        "id": "sb8fkzX37qj3",
        "outputId": "0f77e001-c9a1-4b23-c76e-b9b21f058019"
      },
      "outputs": [
        {
          "data": {
            "text/plain": [
              "<matplotlib.image.AxesImage at 0x7f0f2652dd30>"
            ]
          },
          "execution_count": 39,
          "metadata": {},
          "output_type": "execute_result"
        },
        {
          "data": {
            "image/png": "[encoded data removed]",
            "text/plain": [
              "<Figure size 1080x1080 with 1 Axes>"
            ]
          },
          "metadata": {},
          "output_type": "display_data"
        }
      ],
      "source": [
        "sentences = tweets_df['Clean_Tweets'].tolist()\n",
        "sentences_ss = \" \".join(sentences)\n",
        "\n",
        "plt.figure(figsize=(15,15))\n",
        "# plt.imshow(WordCloud(background_color='white',mask=twitter_mask).generate(sentences_ss))\n",
        "plt.imshow(WordCloud().generate(sentences_ss))"
      ]
    },
    {
      "cell_type": "markdown",
      "metadata": {
        "id": "pLdrJJhb7qj3"
      },
      "source": [
        "#### 3.2.2 Bivariate Data Analysis"
      ]
    },
    {
      "cell_type": "code",
      "execution_count": null,
      "metadata": {
        "colab": {
          "base_uri": "https://localhost:8080/",
          "height": 682
        },
        "id": "YWDQNGKf7qj3",
        "outputId": "ad6d5306-e528-415b-cac7-c0fe8d504b91"
      },
      "outputs": [
        {
          "data": {
            "text/plain": [
              "(array([0, 1, 2]), <a list of 3 Text major ticklabel objects>)"
            ]
          },
          "execution_count": 40,
          "metadata": {},
          "output_type": "execute_result"
        },
        {
          "data": {
            "image/png": "[encoded data removed]",
            "text/plain": [
              "<Figure size 1080x720 with 1 Axes>"
            ]
          },
          "metadata": {},
          "output_type": "display_data"
        }
      ],
      "source": [
        "plt.figure(figsize=(15,10))\n",
        "\n",
        "#set seaborn plotting aesthetics\n",
        "sns.set(style='white')\n",
        "\n",
        "#create grouped bar chart\n",
        "sns.countplot(x='Time_of_Day', hue='Category', data=df,\n",
        "            palette=['purple', 'steelblue'])\n",
        "\n",
        "#add overall title\n",
        "plt.title('Category vs Time_of_Day', fontsize=16)\n",
        "\n",
        "#add axis titles\n",
        "plt.xlabel('Time of Day')\n",
        "plt.ylabel('Count')\n",
        "\n",
        "#rotate x-axis labels\n",
        "plt.xticks(rotation=45)"
      ]
    },
    {
      "cell_type": "markdown",
      "metadata": {
        "id": "7ykoZPPu7qj4"
      },
      "source": [
        "# Modelling "
      ]
    },
    {
      "cell_type": "code",
      "execution_count": null,
      "metadata": {
        "id": "Hpslc1Nw7qj4"
      },
      "outputs": [],
      "source": [
        "# importing the libraries for classiffication\n",
        "from sklearn.model_selection import train_test_split\n",
        "from sklearn.feature_extraction.text import TfidfVectorizer\n",
        "from sklearn.ensemble import RandomForestClassifier \n",
        "from sklearn.preprocessing import OneHotEncoder\n",
        "from sklearn.preprocessing import StandardScaler\n",
        "from sklearn.metrics import accuracy_score, confusion_matrix, classification_report\n",
        "from sklearn.tree import DecisionTreeClassifier\n",
        "from sklearn.pipeline import Pipeline\n",
        "from sklearn.neighbors import KNeighborsClassifier\n",
        "from sklearn.svm import SVC\n"
      ]
    },
    {
      "cell_type": "code",
      "execution_count": null,
      "metadata": {
        "colab": {
          "base_uri": "https://localhost:8080/",
          "height": 424
        },
        "id": "hY2isic67qj4",
        "outputId": "9de8e351-092e-4151-daf5-fe8c49abe4b5"
      },
      "outputs": [
        {
          "data": {
            "text/html": [
              "\n",
              "  <div id=\"df-d32a3b47-1321-4bbf-b5f9-5c746969f762\">\n",
              "    <div class=\"colab-df-container\">\n",
              "      <div>\n",
              "<style scoped>\n",
              "    .dataframe tbody tr th:only-of-type {\n",
              "        vertical-align: middle;\n",
              "    }\n",
              "\n",
              "    .dataframe tbody tr th {\n",
              "        vertical-align: top;\n",
              "    }\n",
              "\n",
              "    .dataframe thead th {\n",
              "        text-align: right;\n",
              "    }\n",
              "</style>\n",
              "<table border=\"1\" class=\"dataframe\">\n",
              "  <thead>\n",
              "    <tr style=\"text-align: right;\">\n",
              "      <th></th>\n",
              "      <th>Datetime</th>\n",
              "      <th>Tweet Id</th>\n",
              "      <th>Username</th>\n",
              "      <th>Clean_Tweets</th>\n",
              "      <th>hour</th>\n",
              "      <th>Time_of_Day</th>\n",
              "      <th>Category</th>\n",
              "    </tr>\n",
              "  </thead>\n",
              "  <tbody>\n",
              "    <tr>\n",
              "      <th>2</th>\n",
              "      <td>2022-12-14 23:35:29+00:00</td>\n",
              "      <td>1603171849428508673</td>\n",
              "      <td>I_im_kibagendi</td>\n",
              "      <td>see started clearly show boychild misses funda...</td>\n",
              "      <td>23</td>\n",
              "      <td>Evening</td>\n",
              "      <td>general</td>\n",
              "    </tr>\n",
              "    <tr>\n",
              "      <th>3</th>\n",
              "      <td>2022-12-14 23:34:57+00:00</td>\n",
              "      <td>1603171716594692096</td>\n",
              "      <td>MutonyeMutuku_</td>\n",
              "      <td>demand statement concerning maxine wahome youv...</td>\n",
              "      <td>23</td>\n",
              "      <td>Evening</td>\n",
              "      <td>mpesa</td>\n",
              "    </tr>\n",
              "    <tr>\n",
              "      <th>4</th>\n",
              "      <td>2022-12-14 23:19:59+00:00</td>\n",
              "      <td>1603167951682764800</td>\n",
              "      <td>ndungujosephn</td>\n",
              "      <td>th december birthday see something data bundle...</td>\n",
              "      <td>23</td>\n",
              "      <td>Evening</td>\n",
              "      <td>internet</td>\n",
              "    </tr>\n",
              "    <tr>\n",
              "      <th>5</th>\n",
              "      <td>2022-12-14 23:00:12+00:00</td>\n",
              "      <td>1603162972456640517</td>\n",
              "      <td>cellestialtech</td>\n",
              "      <td>man dead buggers holding sponsorship maxinewah...</td>\n",
              "      <td>23</td>\n",
              "      <td>Evening</td>\n",
              "      <td>general</td>\n",
              "    </tr>\n",
              "    <tr>\n",
              "      <th>6</th>\n",
              "      <td>2022-12-14 22:58:45+00:00</td>\n",
              "      <td>1603162608898637824</td>\n",
              "      <td>LuckySa89737923</td>\n",
              "      <td>kumbe hizi bundles za saf huwa scam thought zi...</td>\n",
              "      <td>22</td>\n",
              "      <td>Evening</td>\n",
              "      <td>internet</td>\n",
              "    </tr>\n",
              "    <tr>\n",
              "      <th>...</th>\n",
              "      <td>...</td>\n",
              "      <td>...</td>\n",
              "      <td>...</td>\n",
              "      <td>...</td>\n",
              "      <td>...</td>\n",
              "      <td>...</td>\n",
              "      <td>...</td>\n",
              "    </tr>\n",
              "    <tr>\n",
              "      <th>999996</th>\n",
              "      <td>2018-10-26 11:00:21+00:00</td>\n",
              "      <td>1055776139237568512</td>\n",
              "      <td>vincegfxpert</td>\n",
              "      <td>god knows happened quick responses forget</td>\n",
              "      <td>11</td>\n",
              "      <td>Morning</td>\n",
              "      <td>general</td>\n",
              "    </tr>\n",
              "    <tr>\n",
              "      <th>999997</th>\n",
              "      <td>2018-10-26 10:58:57+00:00</td>\n",
              "      <td>1055775786958024704</td>\n",
              "      <td>KThefirst</td>\n",
              "      <td>saf hamjawai nipromote si mfanye ivyo woiye na...</td>\n",
              "      <td>10</td>\n",
              "      <td>Morning</td>\n",
              "      <td>general</td>\n",
              "    </tr>\n",
              "    <tr>\n",
              "      <th>999998</th>\n",
              "      <td>2018-10-26 10:58:36+00:00</td>\n",
              "      <td>1055775697233424384</td>\n",
              "      <td>gimwesh</td>\n",
              "      <td>havent received promotion used safaricom yrs</td>\n",
              "      <td>10</td>\n",
              "      <td>Morning</td>\n",
              "      <td>general</td>\n",
              "    </tr>\n",
              "    <tr>\n",
              "      <th>999999</th>\n",
              "      <td>2018-10-26 10:58:27+00:00</td>\n",
              "      <td>1055775662072623105</td>\n",
              "      <td>hbograndmaster</td>\n",
              "      <td>chenye nishawahi shinda tu njaa</td>\n",
              "      <td>10</td>\n",
              "      <td>Morning</td>\n",
              "      <td>general</td>\n",
              "    </tr>\n",
              "    <tr>\n",
              "      <th>1000000</th>\n",
              "      <td>2018-10-26 10:58:23+00:00</td>\n",
              "      <td>1055775643055673344</td>\n",
              "      <td>munene___</td>\n",
              "      <td>nataka za mzinga leo friday</td>\n",
              "      <td>10</td>\n",
              "      <td>Morning</td>\n",
              "      <td>general</td>\n",
              "    </tr>\n",
              "  </tbody>\n",
              "</table>\n",
              "<p>446076 rows × 7 columns</p>\n",
              "</div>\n",
              "      <button class=\"colab-df-convert\" onclick=\"convertToInteractive('df-d32a3b47-1321-4bbf-b5f9-5c746969f762')\"\n",
              "              title=\"Convert this dataframe to an interactive table.\"\n",
              "              style=\"display:none;\">\n",
              "        \n",
              "  <svg xmlns=\"http://www.w3.org/2000/svg\" height=\"24px\"viewBox=\"0 0 24 24\"\n",
              "       width=\"24px\">\n",
              "    <path d=\"M0 0h24v24H0V0z\" fill=\"none\"/>\n",
              "    <path d=\"M18.56 5.44l.94 2.06.94-2.06 2.06-.94-2.06-.94-.94-2.06-.94 2.06-2.06.94zm-11 1L8.5 8.5l.94-2.06 2.06-.94-2.06-.94L8.5 2.5l-.94 2.06-2.06.94zm10 10l.94 2.06.94-2.06 2.06-.94-2.06-.94-.94-2.06-.94 2.06-2.06.94z\"/><path d=\"M17.41 7.96l-1.37-1.37c-.4-.4-.92-.59-1.43-.59-.52 0-1.04.2-1.43.59L10.3 9.45l-7.72 7.72c-.78.78-.78 2.05 0 2.83L4 21.41c.39.39.9.59 1.41.59.51 0 1.02-.2 1.41-.59l7.78-7.78 2.81-2.81c.8-.78.8-2.07 0-2.86zM5.41 20L4 18.59l7.72-7.72 1.47 1.35L5.41 20z\"/>\n",
              "  </svg>\n",
              "      </button>\n",
              "      \n",
              "  <style>\n",
              "    .colab-df-container {\n",
              "      display:flex;\n",
              "      flex-wrap:wrap;\n",
              "      gap: 12px;\n",
              "    }\n",
              "\n",
              "    .colab-df-convert {\n",
              "      background-color: #E8F0FE;\n",
              "      border: none;\n",
              "      border-radius: 50%;\n",
              "      cursor: pointer;\n",
              "      display: none;\n",
              "      fill: #1967D2;\n",
              "      height: 32px;\n",
              "      padding: 0 0 0 0;\n",
              "      width: 32px;\n",
              "    }\n",
              "\n",
              "    .colab-df-convert:hover {\n",
              "      background-color: #E2EBFA;\n",
              "      box-shadow: 0px 1px 2px rgba(60, 64, 67, 0.3), 0px 1px 3px 1px rgba(60, 64, 67, 0.15);\n",
              "      fill: #174EA6;\n",
              "    }\n",
              "\n",
              "    [theme=dark] .colab-df-convert {\n",
              "      background-color: #3B4455;\n",
              "      fill: #D2E3FC;\n",
              "    }\n",
              "\n",
              "    [theme=dark] .colab-df-convert:hover {\n",
              "      background-color: #434B5C;\n",
              "      box-shadow: 0px 1px 3px 1px rgba(0, 0, 0, 0.15);\n",
              "      filter: drop-shadow(0px 1px 2px rgba(0, 0, 0, 0.3));\n",
              "      fill: #FFFFFF;\n",
              "    }\n",
              "  </style>\n",
              "\n",
              "      <script>\n",
              "        const buttonEl =\n",
              "          document.querySelector('#df-d32a3b47-1321-4bbf-b5f9-5c746969f762 button.colab-df-convert');\n",
              "        buttonEl.style.display =\n",
              "          google.colab.kernel.accessAllowed ? 'block' : 'none';\n",
              "\n",
              "        async function convertToInteractive(key) {\n",
              "          const element = document.querySelector('#df-d32a3b47-1321-4bbf-b5f9-5c746969f762');\n",
              "          const dataTable =\n",
              "            await google.colab.kernel.invokeFunction('convertToInteractive',\n",
              "                                                     [key], {});\n",
              "          if (!dataTable) return;\n",
              "\n",
              "          const docLinkHtml = 'Like what you see? Visit the ' +\n",
              "            '<a target=\"_blank\" href=https://colab.research.google.com/notebooks/data_table.ipynb>data table notebook</a>'\n",
              "            + ' to learn more about interactive tables.';\n",
              "          element.innerHTML = '';\n",
              "          dataTable['output_type'] = 'display_data';\n",
              "          await google.colab.output.renderOutput(dataTable, element);\n",
              "          const docLink = document.createElement('div');\n",
              "          docLink.innerHTML = docLinkHtml;\n",
              "          element.appendChild(docLink);\n",
              "        }\n",
              "      </script>\n",
              "    </div>\n",
              "  </div>\n",
              "  "
            ],
            "text/plain": [
              "                         Datetime             Tweet Id         Username  \\\n",
              "2       2022-12-14 23:35:29+00:00  1603171849428508673   I_im_kibagendi   \n",
              "3       2022-12-14 23:34:57+00:00  1603171716594692096   MutonyeMutuku_   \n",
              "4       2022-12-14 23:19:59+00:00  1603167951682764800    ndungujosephn   \n",
              "5       2022-12-14 23:00:12+00:00  1603162972456640517   cellestialtech   \n",
              "6       2022-12-14 22:58:45+00:00  1603162608898637824  LuckySa89737923   \n",
              "...                           ...                  ...              ...   \n",
              "999996  2018-10-26 11:00:21+00:00  1055776139237568512     vincegfxpert   \n",
              "999997  2018-10-26 10:58:57+00:00  1055775786958024704        KThefirst   \n",
              "999998  2018-10-26 10:58:36+00:00  1055775697233424384          gimwesh   \n",
              "999999  2018-10-26 10:58:27+00:00  1055775662072623105   hbograndmaster   \n",
              "1000000 2018-10-26 10:58:23+00:00  1055775643055673344        munene___   \n",
              "\n",
              "                                              Clean_Tweets  hour Time_of_Day  \\\n",
              "2        see started clearly show boychild misses funda...    23     Evening   \n",
              "3        demand statement concerning maxine wahome youv...    23     Evening   \n",
              "4        th december birthday see something data bundle...    23     Evening   \n",
              "5        man dead buggers holding sponsorship maxinewah...    23     Evening   \n",
              "6        kumbe hizi bundles za saf huwa scam thought zi...    22     Evening   \n",
              "...                                                    ...   ...         ...   \n",
              "999996           god knows happened quick responses forget    11     Morning   \n",
              "999997   saf hamjawai nipromote si mfanye ivyo woiye na...    10     Morning   \n",
              "999998        havent received promotion used safaricom yrs    10     Morning   \n",
              "999999                     chenye nishawahi shinda tu njaa    10     Morning   \n",
              "1000000                        nataka za mzinga leo friday    10     Morning   \n",
              "\n",
              "         Category  \n",
              "2         general  \n",
              "3           mpesa  \n",
              "4        internet  \n",
              "5         general  \n",
              "6        internet  \n",
              "...           ...  \n",
              "999996    general  \n",
              "999997    general  \n",
              "999998    general  \n",
              "999999    general  \n",
              "1000000   general  \n",
              "\n",
              "[446076 rows x 7 columns]"
            ]
          },
          "execution_count": 42,
          "metadata": {},
          "output_type": "execute_result"
        }
      ],
      "source": [
        "df"
      ]
    },
    {
      "cell_type": "code",
      "execution_count": null,
      "metadata": {
        "id": "KDHJ5lSW7qj4"
      },
      "outputs": [],
      "source": [
        "# get_dummmies= pd.get_dummies(y) \n",
        "# get_dummmies\n",
        "\n",
        "df[\"Category\"] = df[\"Category\"].astype('category')\n",
        "\n",
        "df[\"cat_num\"] = df[\"Category\"].cat.codes\n"
      ]
    },
    {
      "cell_type": "code",
      "execution_count": null,
      "metadata": {
        "colab": {
          "base_uri": "https://localhost:8080/"
        },
        "id": "FdhKpNuG7qj4",
        "outputId": "01d54181-b992-4f2a-99af-21f74f826a81"
      },
      "outputs": [
        {
          "data": {
            "text/plain": [
              "1    155486\n",
              "3    112060\n",
              "2     78976\n",
              "4     40132\n",
              "5     38074\n",
              "0     21348\n",
              "Name: cat_num, dtype: int64"
            ]
          },
          "execution_count": 44,
          "metadata": {},
          "output_type": "execute_result"
        }
      ],
      "source": [
        "df['cat_num'].value_counts()"
      ]
    },
    {
      "cell_type": "code",
      "execution_count": null,
      "metadata": {
        "colab": {
          "base_uri": "https://localhost:8080/"
        },
        "id": "US5CXOsV7qj5",
        "outputId": "5c762e9a-157f-4ba4-e9a0-1d198ac27088"
      },
      "outputs": [
        {
          "data": {
            "text/plain": [
              "general               155486\n",
              "mpesa                 112060\n",
              "internet               78976\n",
              "valueaddedservices     40132\n",
              "voice                  38074\n",
              "customercare           21348\n",
              "Name: Category, dtype: int64"
            ]
          },
          "execution_count": 45,
          "metadata": {},
          "output_type": "execute_result"
        }
      ],
      "source": [
        "df['Category'].value_counts()"
      ]
    },
    {
      "cell_type": "code",
      "execution_count": null,
      "metadata": {
        "colab": {
          "base_uri": "https://localhost:8080/"
        },
        "id": "pWrM2CqA7qj5",
        "outputId": "c2475300-603d-4e42-c5fe-7f05037ff760"
      },
      "outputs": [
        {
          "data": {
            "text/plain": [
              "<312253x140038 sparse matrix of type '<class 'numpy.float64'>'\n",
              "\twith 2880179 stored elements in Compressed Sparse Row format>"
            ]
          },
          "execution_count": 46,
          "metadata": {},
          "output_type": "execute_result"
        }
      ],
      "source": [
        "X= df['Clean_Tweets']\n",
        "y= df[\"cat_num\"]\n",
        "# Splitting the values to train and test sets\n",
        "X_train, X_test, y_train, y_test = train_test_split(X, y, random_state= 42, test_size= 0.3)\n",
        "\n",
        "#vectorize X_TRAIN AND X_TEST using tfidf vectorizer\n",
        "tfidf= TfidfVectorizer()\n",
        "X_train = tfidf.fit_transform(X_train)\n",
        "X_test = tfidf.transform(X_test)\n",
        "X_train"
      ]
    },
    {
      "cell_type": "markdown",
      "metadata": {
        "id": "rz199-y27qj5"
      },
      "source": [
        "#### 1. KNN Model"
      ]
    },
    {
      "cell_type": "code",
      "execution_count": null,
      "metadata": {
        "colab": {
          "background_save": true
        },
        "id": "9A_T4r4d7qj5",
        "outputId": "5f897380-7f21-44f6-8375-adf88f6d8a54"
      },
      "outputs": [
        {
          "name": "stdout",
          "output_type": "stream",
          "text": [
            "This model has an accuracy of 54.75889794728859%\n",
            "              precision    recall  f1-score   support\n",
            "\n",
            "           0       0.67      0.14      0.23      6357\n",
            "           1       0.44      0.97      0.61     46578\n",
            "           2       0.87      0.24      0.38     23793\n",
            "           3       0.92      0.34      0.50     33616\n",
            "           4       0.89      0.62      0.73     11976\n",
            "           5       0.84      0.22      0.35     11503\n",
            "\n",
            "    accuracy                           0.55    133823\n",
            "   macro avg       0.77      0.42      0.47    133823\n",
            "weighted avg       0.72      0.55      0.51    133823\n",
            "\n"
          ]
        }
      ],
      "source": [
        "X= df['Clean_Tweets']\n",
        "y= df[\"cat_num\"]\n",
        "# Splitting the values to train and test sets\n",
        "X_train, X_test, y_train, y_test = train_test_split(X, y, random_state= 42, test_size= 0.3)\n",
        "\n",
        "#vectorize X_TRAIN AND X_TEST using tfidf vectorizer\n",
        "tfidf= TfidfVectorizer()\n",
        "X_train = tfidf.fit_transform(X_train)\n",
        "X_test = tfidf.transform(X_test)\n",
        "X_train\n",
        "\n",
        "clf= KNeighborsClassifier()\n",
        "clf.fit(X_train, y_train)\n",
        "# making predictions\n",
        "y_pred = clf.predict(X_test)\n",
        "\n",
        "ac= clf.score(X_test, y_test)\n",
        "print(f'This model has an accuracy of {ac*100}%')\n",
        "\n",
        "# getting the scores for the model\n",
        "print(classification_report(y_test, y_pred))\n",
        "\n",
        "# plotting a confusion marrix\n"
      ]
    },
    {
      "cell_type": "code",
      "execution_count": null,
      "metadata": {
        "colab": {
          "background_save": true
        },
        "id": "Qsl7Rh3TXqN9"
      },
      "outputs": [],
      "source": [
        "cm = confusion_matrix(y_test, y_pred)\n",
        "def plot_confusion_matrix(cm):\n",
        "     \n",
        "      plt.imshow(cm, cmap=plt.cm.Blues)\n",
        "      plt.xlabel(\"Predicted label\")\n",
        "      plt.ylabel(\"True label\")\n",
        "      plt.title(\"Confusion Matrix\")\n",
        "      plt.colorbar()\n",
        "      plt.show()\n"
      ]
    },
    {
      "cell_type": "code",
      "execution_count": null,
      "metadata": {
        "colab": {
          "background_save": true
        },
        "id": "Ki9B8IAnbgSh",
        "outputId": "b2d3f1a3-f40b-42ab-8277-42bdaf05d388"
      },
      "outputs": [
        {
          "data": {
            "image/png": "[encoded data removed]",
            "text/plain": [
              "<Figure size 432x288 with 2 Axes>"
            ]
          },
          "metadata": {},
          "output_type": "display_data"
        }
      ],
      "source": [
        "\n",
        "plot_confusion_matrix(cm)\n"
      ]
    },
    {
      "cell_type": "markdown",
      "metadata": {
        "id": "cSiCRsu47qj5"
      },
      "source": [
        "### 2. Decision Tree "
      ]
    },
    {
      "cell_type": "code",
      "execution_count": null,
      "metadata": {
        "colab": {
          "background_save": true
        },
        "id": "yxf-O2jx7qj5",
        "outputId": "1ec41ec6-bcce-43b8-c7b2-493a091efd43"
      },
      "outputs": [
        {
          "name": "stdout",
          "output_type": "stream",
          "text": [
            "This model has an accuracy of 71.05430307196819%\n",
            "              precision    recall  f1-score   support\n",
            "\n",
            "           0       0.00      0.00      0.00      6357\n",
            "           1       0.56      1.00      0.71     46578\n",
            "           2       0.98      0.77      0.86     23793\n",
            "           3       1.00      0.61      0.76     33616\n",
            "           4       0.91      0.51      0.65     11976\n",
            "           5       0.87      0.30      0.45     11503\n",
            "\n",
            "    accuracy                           0.71    133823\n",
            "   macro avg       0.72      0.53      0.57    133823\n",
            "weighted avg       0.78      0.71      0.69    133823\n",
            "\n"
          ]
        },
        {
          "data": {
            "image/png": "[encoded data removed]",
            "text/plain": [
              "<Figure size 432x288 with 2 Axes>"
            ]
          },
          "metadata": {},
          "output_type": "display_data"
        }
      ],
      "source": [
        "# fitting a decision tree classifier\n",
        "tree = DecisionTreeClassifier(max_depth=10, min_samples_leaf=3 , min_samples_split= 100)\n",
        "tree.fit(X_train, y_train)\n",
        "# getting the accuracy\n",
        "print(f'This model has an accuracy of {tree.score(X_test, y_test)*100}%')\n",
        "# making predictions\n",
        "y_pred = tree.predict(X_test)\n",
        "accuracy_score(y_test, y_pred )\n",
        "# getting the scores for the model\n",
        "print(classification_report(y_test, y_pred))\n",
        "\n",
        "cm = confusion_matrix(y_test, y_pred)\n",
        "plot_confusion_matrix(cm)\n"
      ]
    },
    {
      "cell_type": "code",
      "execution_count": null,
      "metadata": {
        "colab": {
          "background_save": true
        },
        "id": "2i_QPodtqLv5"
      },
      "outputs": [],
      "source": [
        "cm= confusion_matrix(y_test, y_pred)"
      ]
    },
    {
      "cell_type": "markdown",
      "metadata": {
        "id": "iwbNH0x-7qj5"
      },
      "source": [
        "### 3. Random Forest"
      ]
    },
    {
      "cell_type": "code",
      "execution_count": null,
      "metadata": {
        "colab": {
          "background_save": true
        },
        "id": "UpP3WPNh7qj5",
        "outputId": "844e5d4a-4ea5-4f9e-9ed8-f57644b15c86"
      },
      "outputs": [
        {
          "name": "stdout",
          "output_type": "stream",
          "text": [
            "This model has an accuracy of 80.84559455400043%\n",
            "              precision    recall  f1-score   support\n",
            "\n",
            "           0       0.54      0.83      0.66      6357\n",
            "           1       0.77      0.94      0.84     46578\n",
            "           2       0.82      0.80      0.81     23793\n",
            "           3       0.90      0.75      0.82     33616\n",
            "           4       0.93      0.80      0.86     11976\n",
            "           5       0.93      0.50      0.65     11503\n",
            "\n",
            "    accuracy                           0.81    133823\n",
            "   macro avg       0.82      0.77      0.77    133823\n",
            "weighted avg       0.83      0.81      0.81    133823\n",
            "\n"
          ]
        },
        {
          "data": {
            "image/png": "[encoded data removed]",
            "text/plain": [
              "<Figure size 432x288 with 2 Axes>"
            ]
          },
          "metadata": {},
          "output_type": "display_data"
        }
      ],
      "source": [
        "# fitting a random forest with 2 trees\n",
        "forest = RandomForestClassifier(n_estimators= 2, random_state=2 )\n",
        "forest.fit(X_train, y_train)\n",
        "forest.score(X_train, y_train)\n",
        "print(f'This model has an accuracy of {forest.score(X_test, y_test)*100}%')\n",
        "# making predictions\n",
        "y_pred = forest.predict(X_test)\n",
        "accuracy_score(y_test, y_pred )\n",
        "# getting the scores\n",
        "print(classification_report(y_test, y_pred))\n",
        "cm = confusion_matrix(y_test, y_pred)\n",
        "plot_confusion_matrix(cm)\n"
      ]
    },
    {
      "cell_type": "markdown",
      "metadata": {
        "id": "t79KnUbK7qj5"
      },
      "source": [
        "### 4. SVM"
      ]
    },
    {
      "cell_type": "code",
      "execution_count": null,
      "metadata": {
        "id": "R20zFbCkzB-B"
      },
      "outputs": [],
      "source": [
        "#initializing the model\n",
        "svc= SVC()\n",
        "# fitting the model\n",
        "svc.fit(X_train, y_train)\n"
      ]
    },
    {
      "cell_type": "code",
      "execution_count": null,
      "metadata": {
        "id": "5OCH5-TV7qj5"
      },
      "outputs": [],
      "source": [
        "svc.score(X_train, y_train)\n",
        "print(f'This model has an accuracy of {svc.score(X_test, y_test)*100}%')\n",
        "y_pred = svc.predict(X_test)\n",
        "\n",
        "print(f'the accuracy of predictions is {accuracy_score(y_test, y_pred )}')\n",
        "print(classification_report(y_test, y_pred))"
      ]
    },
    {
      "cell_type": "markdown",
      "metadata": {
        "id": "_Rjl-i2wrSDm"
      },
      "source": [
        "##### Decision Trees with GridSearchCV"
      ]
    },
    {
      "cell_type": "code",
      "execution_count": null,
      "metadata": {
        "colab": {
          "base_uri": "https://localhost:8080/",
          "height": 240
        },
        "id": "0Jc-HMYc7qj6",
        "outputId": "ea4d28bc-ba50-40a9-8a7a-66727d8ac002"
      },
      "outputs": [
        {
          "ename": "NameError",
          "evalue": "ignored",
          "output_type": "error",
          "traceback": [
            "\u001b[0;31m---------------------------------------------------------------------------\u001b[0m",
            "\u001b[0;31mNameError\u001b[0m                                 Traceback (most recent call last)",
            "\u001b[0;32m<ipython-input-1-b9ebf79cbab0>\u001b[0m in \u001b[0;36m<module>\u001b[0;34m\u001b[0m\n\u001b[1;32m     21\u001b[0m \u001b[0;34m\u001b[0m\u001b[0m\n\u001b[1;32m     22\u001b[0m \u001b[0;31m# fit the grid search object to your training data\u001b[0m\u001b[0;34m\u001b[0m\u001b[0;34m\u001b[0m\u001b[0;34m\u001b[0m\u001b[0m\n\u001b[0;32m---> 23\u001b[0;31m \u001b[0mgrid_search\u001b[0m\u001b[0;34m.\u001b[0m\u001b[0mfit\u001b[0m\u001b[0;34m(\u001b[0m\u001b[0mX_train\u001b[0m\u001b[0;34m,\u001b[0m \u001b[0my_train\u001b[0m\u001b[0;34m)\u001b[0m\u001b[0;34m\u001b[0m\u001b[0;34m\u001b[0m\u001b[0m\n\u001b[0m\u001b[1;32m     24\u001b[0m \u001b[0;34m\u001b[0m\u001b[0m\n\u001b[1;32m     25\u001b[0m \u001b[0;31m# print the best parameters and score found on the training set\u001b[0m\u001b[0;34m\u001b[0m\u001b[0;34m\u001b[0m\u001b[0;34m\u001b[0m\u001b[0m\n",
            "\u001b[0;31mNameError\u001b[0m: name 'X_train' is not defined"
          ]
        }
      ],
      "source": [
        "from sklearn.ensemble import RandomForestClassifier\n",
        "from sklearn.model_selection import GridSearchCV\n",
        "\n",
        "# create a list of values for each hyperparameter that you want to tune\n",
        "n_estimators = [10, 50, 100, 200]\n",
        "max_depth = [None, 5, 10, 15]\n",
        "min_samples_split = [2, 5, 10]\n",
        "min_samples_leaf = [1, 2, 4]\n",
        "\n",
        "# create a parameter grid using the values you defined above\n",
        "param_grid = {'n_estimators': n_estimators,\n",
        "              'max_depth': max_depth,\n",
        "              'min_samples_split': min_samples_split,\n",
        "              'min_samples_leaf': min_samples_leaf}\n",
        "\n",
        "# create a random forest classifier\n",
        "clf = RandomForestClassifier()\n",
        "\n",
        "# create a grid search object using the parameter grid and the random forest classifier\n",
        "grid_search = GridSearchCV(estimator=clf, param_grid=param_grid, cv=5, n_jobs=-1, verbose=2)\n",
        "\n",
        "# fit the grid search object to your training data\n",
        "grid_search.fit(X_train, y_train)\n",
        "\n",
        "# print the best parameters and score found on the training set\n",
        "print(grid_search.best_params_)\n",
        "print(grid_search.best_score_)\n",
        "\n",
        "# use the best parameters to make predictions on the test set\n",
        "y_pred = grid_search.predict(X_test)"
      ]
    },
    {
      "cell_type": "code",
      "execution_count": null,
      "metadata": {
        "id": "nyhVBMwk7qj6"
      },
      "outputs": [],
      "source": [
        " # plotting the  confusion matrix\n",
        "cm= confusion_matrix(y_test, y_pred)\n",
        "class_label = [0,1,2,3,4,5]\n",
        "df_cm = pd.DataFrame(cm, index=class_label,columns=class_label)\n",
        "\n",
        "    # Plot the Model\n",
        "plt.figure(figsize=(10,8))\n",
        "\n",
        "sns.heatmap(df_cm, annot=True, fmt='d')\n",
        "plt.title(\"Confusion Matrix\")\n",
        "plt.xlabel(\"Predicted Label\")\n",
        "plt.ylabel(\"True Label\")\n",
        "plt.show()"
      ]
    },
    {
      "cell_type": "markdown",
      "metadata": {
        "id": "NtNbJAm45rmx"
      },
      "source": [
        "Building a pipline for the Model.\n"
      ]
    },
    {
      "cell_type": "markdown",
      "metadata": {
        "id": "QcnH9ylhPE61"
      },
      "source": [
        "### Neural Networks"
      ]
    },
    {
      "cell_type": "code",
      "execution_count": null,
      "metadata": {
        "colab": {
          "background_save": true
        },
        "id": "T7_JPoGTPEAk"
      },
      "outputs": [],
      "source": [
        "# importing libraries\n",
        "import tensorflow as tf\n",
        "import keras\n",
        "from keras.models import Sequential\n",
        "from keras.layers import Input\n",
        "from keras.layers import Dense, Activation\n",
        "from keras import backend as K\n",
        "from keras.layers.core import Dense\n",
        "from keras.optimizers import Adam\n",
        "from keras.metrics import categorical_crossentropy\n",
        "from keras.utils import pad_sequences\n",
        "from keras.layers import Flatten\n",
        "from keras.preprocessing.text import Tokenizer\n",
        "from keras.preprocessing.text import Tokenizer\n",
        "from keras.layers import Embedding, LSTM, Dense, Dropout\n",
        "from keras.utils import pad_sequences\n"
      ]
    },
    {
      "cell_type": "markdown",
      "metadata": {
        "id": "XhuKGYzK1ATG"
      },
      "source": []
    },
    {
      "cell_type": "code",
      "execution_count": 55,
      "metadata": {
        "id": "D-tczm9CWIp9",
        "colab": {
          "base_uri": "https://localhost:8080/"
        },
        "outputId": "64684f70-d19b-46b4-ea4a-40ea11137ccb"
      },
      "outputs": [
        {
          "output_type": "stream",
          "name": "stdout",
          "text": [
            "Model: \"sequential_1\"\n",
            "_________________________________________________________________\n",
            " Layer (type)                Output Shape              Param #   \n",
            "=================================================================\n",
            " embedding (Embedding)       (None, None, 128)         2560000   \n",
            "                                                                 \n",
            " lstm (LSTM)                 (None, None, 25)          15400     \n",
            "                                                                 \n",
            " dropout (Dropout)           (None, None, 25)          0         \n",
            "                                                                 \n",
            " lstm_1 (LSTM)               (None, 25)                5100      \n",
            "                                                                 \n",
            " dropout_1 (Dropout)         (None, 25)                0         \n",
            "                                                                 \n",
            " dense (Dense)               (None, 6)                 156       \n",
            "                                                                 \n",
            "=================================================================\n",
            "Total params: 2,580,656\n",
            "Trainable params: 2,580,656\n",
            "Non-trainable params: 0\n",
            "_________________________________________________________________\n",
            "Epoch 1/3\n",
            "8783/8783 [==============================] - 1161s 132ms/step - loss: 0.0717 - accuracy: 0.9787 - val_loss: 9.9739e-04 - val_accuracy: 0.9999\n",
            "Epoch 2/3\n",
            "8783/8783 [==============================] - 1281s 146ms/step - loss: 0.0065 - accuracy: 0.9986 - val_loss: 8.1397e-04 - val_accuracy: 0.9999\n",
            "Epoch 3/3\n",
            "8783/8783 [==============================] - 1300s 148ms/step - loss: 0.0049 - accuracy: 0.9990 - val_loss: 6.7827e-04 - val_accuracy: 1.0000\n"
          ]
        },
        {
          "output_type": "execute_result",
          "data": {
            "text/plain": [
              "<keras.callbacks.History at 0x7f0f0733bfd0>"
            ]
          },
          "metadata": {},
          "execution_count": 55
        }
      ],
      "source": [
        "X= df['Clean_Tweets']\n",
        "y= pd.get_dummies(df[\"Category\"]).values\n",
        "\n",
        "#tokenizing the values\n",
        "tokenizer = Tokenizer(num_words=20000)\n",
        "tokenizer.fit_on_texts(list(X))\n",
        "#making the tokens a sequence\n",
        "list_tokenized_headlines = tokenizer.texts_to_sequences(X)\n",
        "#padding\n",
        "X_t = pad_sequences(list_tokenized_headlines, maxlen=100)\n",
        "\n",
        "# Splitting the values to train and test sets\n",
        "from sklearn.model_selection import train_test_split\n",
        "X_train, X_test, y_train, y_test = train_test_split(X_t, y, random_state= 42, test_size= 0.3)\n",
        "\n",
        "# initializing the model\n",
        "model = Sequential()\n",
        "# Create the model\n",
        "embedding_size = 128\n",
        "model = Sequential()\n",
        "model.add(Embedding(20000, embedding_size))\n",
        "model.add(LSTM(25, return_sequences=True))\n",
        "model.add(Dropout(0.5))\n",
        "model.add(LSTM(25))\n",
        "model.add(Dropout(0.5))\n",
        "model.add(Dense(6, activation='softmax'))\n",
        "model.compile(loss='categorical_crossentropy', \n",
        "              optimizer='adam', \n",
        "              metrics=['accuracy'])\n",
        "model.summary()\n",
        "model.fit(X_train, y_train, epochs=3, batch_size=32, validation_split=0.1)"
      ]
    },
    {
      "cell_type": "code",
      "execution_count": 56,
      "metadata": {
        "id": "pacEIciQeDrM"
      },
      "outputs": [],
      "source": [
        "# scores = model.evaluate(X_test, y_test, verbose=0)\n",
        "# scores"
      ]
    },
    {
      "cell_type": "code",
      "execution_count": 57,
      "metadata": {
        "id": "sMC2tdRhzU_G"
      },
      "outputs": [],
      "source": [
        "from keras.layers import Input, Dense, LSTM, Embedding\n",
        "from keras.layers import Dropout, Activation, Bidirectional, GlobalMaxPool1D\n",
        "from keras.models import Sequential\n",
        "from keras import initializers, regularizers, constraints, optimizers, layers\n",
        "from keras.preprocessing import text, sequence"
      ]
    },
    {
      "cell_type": "code",
      "execution_count": 58,
      "metadata": {
        "id": "hbtvUn8UzeAA",
        "colab": {
          "base_uri": "https://localhost:8080/"
        },
        "outputId": "3997717c-8ad3-4226-f467-83c39e4e5cc3"
      },
      "outputs": [
        {
          "output_type": "stream",
          "name": "stdout",
          "text": [
            "Model: \"sequential_2\"\n",
            "_________________________________________________________________\n",
            " Layer (type)                Output Shape              Param #   \n",
            "=================================================================\n",
            " embedding_1 (Embedding)     (None, None, 128)         2560000   \n",
            "                                                                 \n",
            " lstm_2 (LSTM)               (None, None, 25)          15400     \n",
            "                                                                 \n",
            " global_max_pooling1d (Globa  (None, 25)               0         \n",
            " lMaxPooling1D)                                                  \n",
            "                                                                 \n",
            " dropout_2 (Dropout)         (None, 25)                0         \n",
            "                                                                 \n",
            " dense_1 (Dense)             (None, 50)                1300      \n",
            "                                                                 \n",
            " dropout_3 (Dropout)         (None, 50)                0         \n",
            "                                                                 \n",
            " dense_2 (Dense)             (None, 6)                 306       \n",
            "                                                                 \n",
            "=================================================================\n",
            "Total params: 2,577,006\n",
            "Trainable params: 2,577,006\n",
            "Non-trainable params: 0\n",
            "_________________________________________________________________\n"
          ]
        }
      ],
      "source": [
        "target= df['Category']\n",
        "y = pd.get_dummies(target).values\n",
        "tokenizer = Tokenizer(num_words=20000)\n",
        "tokenizer.fit_on_texts(list(df['Clean_Tweets']))\n",
        "list_tokenized_tweets = tokenizer.texts_to_sequences(df['Clean_Tweets'])\n",
        "X_t = pad_sequences(list_tokenized_tweets, maxlen=100)\n",
        "\n",
        "# create the model\n",
        "model = Sequential()\n",
        "# embedding\n",
        "embedding_size = 128\n",
        "model.add(Embedding(20000, embedding_size))\n",
        "model.add(LSTM(25, return_sequences=True))\n",
        "model.add(GlobalMaxPool1D())\n",
        "model.add(Dropout(0.5))\n",
        "model.add(Dense(50, activation='relu'))\n",
        "model.add(Dropout(0.5))\n",
        "model.add(Dense(6, activation='softmax'))\n",
        "#compile the model\n",
        "model.compile(loss='categorical_crossentropy', \n",
        "              optimizer='adam', \n",
        "              metrics=['accuracy'])\n",
        "model.summary()"
      ]
    },
    {
      "cell_type": "code",
      "execution_count": null,
      "metadata": {
        "id": "mXsDFvyEz9io",
        "colab": {
          "base_uri": "https://localhost:8080/"
        },
        "outputId": "19ed6877-bc1f-4243-8a47-9623b6acc5a6"
      },
      "outputs": [
        {
          "output_type": "stream",
          "name": "stdout",
          "text": [
            "Epoch 1/3\n",
            "12546/12546 [==============================] - 1050s 83ms/step - loss: 0.0901 - accuracy: 0.9699 - val_loss: 2.0846e-04 - val_accuracy: 1.0000\n",
            "Epoch 2/3\n",
            " 9991/12546 [======================>.......] - ETA: 3:30 - loss: 0.0159 - accuracy: 0.9956"
          ]
        }
      ],
      "source": [
        "model.fit(X_t, y, epochs=3, batch_size=32, validation_split=0.1)"
      ]
    },
    {
      "cell_type": "code",
      "execution_count": null,
      "metadata": {
        "id": "1BNmtEL74wbn"
      },
      "outputs": [],
      "source": [
        "X= df['Clean_Tweets']\n",
        "y= pd.get_dummies(df[\"Category\"]).values\n",
        "# Splitting the values to train and test sets\n",
        "X_train, X_test, y_train, y_test = train_test_split(X, y, random_state= 42, test_size= 0.3)\n",
        "tokenizer = text.Tokenizer(num_words=20000)\n",
        "tokenizer.fit_on_texts(list(X_train))\n",
        "list_tokenized_tweets = tokenizer.texts_to_sequences(X_train)\n",
        "X_t = pad_sequences(list_tokenized_tweets, maxlen=100)\n",
        "model = Sequential()\n",
        "# Create the model\n",
        "embedding_size = 128\n",
        "model = Sequential()\n",
        "model.add(Embedding(20000, embedding_size))\n",
        "model.add(LSTM(25, return_sequences=True))\n",
        "model.add(GlobalMaxPool1D())\n",
        "model.add(Dropout(0.5))\n",
        "model.add(LSTM(50))\n",
        "model.add(Dropout(0.5))\n",
        "model.add(Dense(6, activation='softmax'))\n",
        "model.compile(loss='categorical_crossentropy', \n",
        "              optimizer='adam', \n",
        "              metrics=['accuracy'])\n",
        "model.summary()\n",
        "model.fit(X_t, y_train, epochs=3, batch_size=32, validation_split=0.2)"
      ]
    },
    {
      "cell_type": "code",
      "execution_count": 71,
      "metadata": {
        "id": "_GKL1ChzYnKh",
        "colab": {
          "base_uri": "https://localhost:8080/",
          "height": 389
        },
        "outputId": "e782909b-ffb6-425b-8c2c-773a89fd4aa9"
      },
      "outputs": [
        {
          "output_type": "error",
          "ename": "AttributeError",
          "evalue": "ignored",
          "traceback": [
            "\u001b[0;31m---------------------------------------------------------------------------\u001b[0m",
            "\u001b[0;31mAttributeError\u001b[0m                            Traceback (most recent call last)",
            "\u001b[0;32m<ipython-input-71-1887d58fd904>\u001b[0m in \u001b[0;36m<module>\u001b[0;34m\u001b[0m\n\u001b[1;32m      1\u001b[0m \u001b[0mtokenizer\u001b[0m \u001b[0;34m=\u001b[0m \u001b[0mtext\u001b[0m\u001b[0;34m.\u001b[0m\u001b[0mTokenizer\u001b[0m\u001b[0;34m(\u001b[0m\u001b[0mnum_words\u001b[0m\u001b[0;34m=\u001b[0m\u001b[0;36m20000\u001b[0m\u001b[0;34m)\u001b[0m\u001b[0;34m\u001b[0m\u001b[0;34m\u001b[0m\u001b[0m\n\u001b[0;32m----> 2\u001b[0;31m \u001b[0mtokenizer\u001b[0m\u001b[0;34m.\u001b[0m\u001b[0mfit_on_texts\u001b[0m\u001b[0;34m(\u001b[0m\u001b[0mlist\u001b[0m\u001b[0;34m(\u001b[0m\u001b[0mX_test\u001b[0m\u001b[0;34m)\u001b[0m\u001b[0;34m)\u001b[0m\u001b[0;34m\u001b[0m\u001b[0;34m\u001b[0m\u001b[0m\n\u001b[0m\u001b[1;32m      3\u001b[0m \u001b[0mlist_tokenized_tweets\u001b[0m \u001b[0;34m=\u001b[0m \u001b[0mtokenizer\u001b[0m\u001b[0;34m.\u001b[0m\u001b[0mtexts_to_sequences\u001b[0m\u001b[0;34m(\u001b[0m\u001b[0mX_test\u001b[0m\u001b[0;34m)\u001b[0m\u001b[0;34m\u001b[0m\u001b[0;34m\u001b[0m\u001b[0m\n\u001b[1;32m      4\u001b[0m \u001b[0mX_test\u001b[0m \u001b[0;34m=\u001b[0m \u001b[0mpad_sequences\u001b[0m\u001b[0;34m(\u001b[0m\u001b[0mlist_tokenized_tweets\u001b[0m\u001b[0;34m,\u001b[0m \u001b[0mmaxlen\u001b[0m\u001b[0;34m=\u001b[0m\u001b[0;36m100\u001b[0m\u001b[0;34m)\u001b[0m\u001b[0;34m\u001b[0m\u001b[0;34m\u001b[0m\u001b[0m\n\u001b[1;32m      5\u001b[0m \u001b[0mmodel\u001b[0m\u001b[0;34m.\u001b[0m\u001b[0mfit\u001b[0m\u001b[0;34m(\u001b[0m\u001b[0mX_test\u001b[0m\u001b[0;34m,\u001b[0m \u001b[0my_train\u001b[0m\u001b[0;34m,\u001b[0m \u001b[0mepochs\u001b[0m\u001b[0;34m=\u001b[0m\u001b[0;36m3\u001b[0m\u001b[0;34m,\u001b[0m \u001b[0mbatch_size\u001b[0m\u001b[0;34m=\u001b[0m\u001b[0;36m32\u001b[0m\u001b[0;34m,\u001b[0m \u001b[0mvalidation_split\u001b[0m\u001b[0;34m=\u001b[0m\u001b[0;36m0.1\u001b[0m\u001b[0;34m)\u001b[0m\u001b[0;34m\u001b[0m\u001b[0;34m\u001b[0m\u001b[0m\n",
            "\u001b[0;32m/usr/local/lib/python3.8/dist-packages/keras/preprocessing/text.py\u001b[0m in \u001b[0;36mfit_on_texts\u001b[0;34m(self, texts)\u001b[0m\n\u001b[1;32m    277\u001b[0m       \u001b[0;32melse\u001b[0m\u001b[0;34m:\u001b[0m\u001b[0;34m\u001b[0m\u001b[0;34m\u001b[0m\u001b[0m\n\u001b[1;32m    278\u001b[0m         \u001b[0;32mif\u001b[0m \u001b[0mself\u001b[0m\u001b[0;34m.\u001b[0m\u001b[0manalyzer\u001b[0m \u001b[0;32mis\u001b[0m \u001b[0;32mNone\u001b[0m\u001b[0;34m:\u001b[0m\u001b[0;34m\u001b[0m\u001b[0;34m\u001b[0m\u001b[0m\n\u001b[0;32m--> 279\u001b[0;31m           seq = text_to_word_sequence(\n\u001b[0m\u001b[1;32m    280\u001b[0m               text, filters=self.filters, lower=self.lower, split=self.split)\n\u001b[1;32m    281\u001b[0m         \u001b[0;32melse\u001b[0m\u001b[0;34m:\u001b[0m\u001b[0;34m\u001b[0m\u001b[0;34m\u001b[0m\u001b[0m\n",
            "\u001b[0;32m/usr/local/lib/python3.8/dist-packages/keras/preprocessing/text.py\u001b[0m in \u001b[0;36mtext_to_word_sequence\u001b[0;34m(input_text, filters, lower, split)\u001b[0m\n\u001b[1;32m     70\u001b[0m   \"\"\"\n\u001b[1;32m     71\u001b[0m   \u001b[0;32mif\u001b[0m \u001b[0mlower\u001b[0m\u001b[0;34m:\u001b[0m\u001b[0;34m\u001b[0m\u001b[0;34m\u001b[0m\u001b[0m\n\u001b[0;32m---> 72\u001b[0;31m     \u001b[0minput_text\u001b[0m \u001b[0;34m=\u001b[0m \u001b[0minput_text\u001b[0m\u001b[0;34m.\u001b[0m\u001b[0mlower\u001b[0m\u001b[0;34m(\u001b[0m\u001b[0;34m)\u001b[0m\u001b[0;34m\u001b[0m\u001b[0;34m\u001b[0m\u001b[0m\n\u001b[0m\u001b[1;32m     73\u001b[0m \u001b[0;34m\u001b[0m\u001b[0m\n\u001b[1;32m     74\u001b[0m   \u001b[0mtranslate_dict\u001b[0m \u001b[0;34m=\u001b[0m \u001b[0;34m{\u001b[0m\u001b[0mc\u001b[0m\u001b[0;34m:\u001b[0m \u001b[0msplit\u001b[0m \u001b[0;32mfor\u001b[0m \u001b[0mc\u001b[0m \u001b[0;32min\u001b[0m \u001b[0mfilters\u001b[0m\u001b[0;34m}\u001b[0m\u001b[0;34m\u001b[0m\u001b[0;34m\u001b[0m\u001b[0m\n",
            "\u001b[0;31mAttributeError\u001b[0m: 'numpy.ndarray' object has no attribute 'lower'"
          ]
        }
      ],
      "source": [
        "tokenizer = text.Tokenizer(num_words=20000)\n",
        "tokenizer.fit_on_texts(list(X_test))\n",
        "list_tokenized_tweets = tokenizer.texts_to_sequences(X_test)\n",
        "X_test = pad_sequences(list_tokenized_tweets, maxlen=100)\n",
        "model.fit(X_test, y_train, epochs=3, batch_size=32, validation_split=0.1)"
      ]
    },
    {
      "cell_type": "code",
      "execution_count": null,
      "metadata": {
        "id": "MQMuWTT1smj2"
      },
      "outputs": [],
      "source": [
        "model.evaluate(X_test, y_test, verbose=2)"
      ]
    },
    {
      "cell_type": "code",
      "execution_count": null,
      "metadata": {
        "id": "TPpAF070TXbe"
      },
      "outputs": [],
      "source": []
    },
    {
      "cell_type": "code",
      "execution_count": 70,
      "metadata": {
        "id": "6MIGcrxJ_xmV",
        "colab": {
          "base_uri": "https://localhost:8080/",
          "height": 133
        },
        "outputId": "8a5841fe-02a6-4e23-9153-7cd884f1172c"
      },
      "outputs": [
        {
          "output_type": "error",
          "ename": "SyntaxError",
          "evalue": "ignored",
          "traceback": [
            "\u001b[0;36m  File \u001b[0;32m\"<ipython-input-70-82cfaaf25bfc>\"\u001b[0;36m, line \u001b[0;32m5\u001b[0m\n\u001b[0;31m    'general': ,\u001b[0m\n\u001b[0m               ^\u001b[0m\n\u001b[0;31mSyntaxError\u001b[0m\u001b[0;31m:\u001b[0m invalid syntax\n"
          ]
        }
      ],
      "source": [
        "n= 30\n",
        "def issue_ticket(category, i):\n",
        "    # Dictionary mapping categories to ticket prices\n",
        "    ticket_number = {\n",
        "        'general': ,\n",
        "        'mpesa': ,\n",
        "        'valueaddedservices': ,              \n",
        "        'internet': ,\n",
        "        'voice': ,\n",
        "        'customercare ': \n",
        "    }\n",
        "\n",
        "    # Check if the category is valid\n",
        "    if category not in ticket_number:\n",
        "        raise ValueError('Invalid category')\n",
        "\n",
        "    # Calculate the ticket price for the given category\n",
        "    ticket_no = ticket_number[category]\n",
        "\n",
        "    # Issue the ticket\n",
        "    print(f'Ticket for  \"{category}\" inquiry is No:{ticket_no}')\n",
        "\n",
        "# Example usage\n",
        "issue_ticket('general', 5)  # Ticket issued for category \"adult\" at a price of $10.0\n",
        "issue_ticket('customercare', 6 )  # Ticket issued for category \"child\" at a price of $5.0\n",
        "issue_ticket('internet', 7)  # Ticket issued for category \"senior\" at a price of $7.5\n"
      ]
    },
    {
      "cell_type": "code",
      "source": [],
      "metadata": {
        "id": "Hip3rDmGyj6o"
      },
      "execution_count": null,
      "outputs": []
    }
  ],
  "metadata": {
    "colab": {
      "provenance": []
    },
    "kernelspec": {
      "display_name": "Python (learn-env)",
      "language": "python",
      "name": "learn-env"
    },
    "language_info": {
      "codemirror_mode": {
        "name": "ipython",
        "version": 3
      },
      "file_extension": ".py",
      "mimetype": "text/x-python",
      "name": "python",
      "nbconvert_exporter": "python",
      "pygments_lexer": "ipython3",
      "version": "3.8.5"
    }
  },
  "nbformat": 4,
  "nbformat_minor": 0
}